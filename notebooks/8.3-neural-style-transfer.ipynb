{
 "cells": [
  {
   "cell_type": "raw",
   "metadata": {},
   "source": [
    "---\n",
    "title: \"Neural style transfer\"\n",
    "output: \n",
    "  html_notebook: \n",
    "    theme: cerulean\n",
    "    highlight: textmate\n",
    "---"
   ]
  },
  {
   "cell_type": "code",
   "execution_count": null,
   "metadata": {
    "name": "setup",
    "tags": [
     "remove_cell"
    ]
   },
   "outputs": [],
   "source": [
    "knitr::opts_chunk$set(warning = FALSE, message = FALSE)"
   ]
  },
  {
   "cell_type": "markdown",
   "metadata": {},
   "source": [
    "***\n",
    "\n",
    "This notebook contains the code samples found in Chapter 8, Section 3 of [Deep Learning with R](https://www.manning.com/books/deep-learning-with-r). Note that the original text features far more content, in particular further explanations and figures: in this notebook, you will only find source code and related comments.\n",
    "\n",
    "***\n",
    "\n",
    "Besides Deep Dream, another major development in deep learning-driven image modification that happened in the summer of 2015 is neural style transfer, introduced by Leon Gatys et al. The neural style transfer algorithm has undergone many refinements and spawned many variations since its original introduction, including a viral smartphone app, called Prisma. For simplicity, this section focuses on the formulation described in the original paper.\n",
    "\n",
    "Neural style transfer consists in applying the \"style\" of a reference image to a target image, while conserving the \"content\" of the target image:\n",
    "\n",
    "![style transfer](https://s3.amazonaws.com/book.keras.io/img/ch8/style_transfer.png)\n",
    "\n",
    "What is meant by \"style\" is essentially textures, colors, and visual patterns in the image, at various spatial scales, while the \"content\" is the higher-level macrostructure of the image. For instance, blue-and-yellow circular brush strokes are considered to be the \"style\" in the above example using Starry Night by Van Gogh, while the buildings in the Tuebingen photograph are considered to be the \"content\".\n",
    "\n",
    "The idea of style transfer, tightly related to that of texture generation, has had a long history in the image processing community prior to the development of neural style transfer in 2015. However, as it turned out, the deep learning-based implementations of style transfer offered results unparalleled by what could be previously achieved with classical computer vision techniques, and triggered an amazing renaissance in creative applications of computer vision.\n",
    "\n",
    "The key notion behind implementing style transfer is same idea that is central to all deep learning algorithms: we define a loss function to specify what we want to achieve, and we minimize this loss. We know what we want to achieve: conserve the \"content\" of the original image, while adopting the \"style\" of the reference image. If we were able to mathematically define content and style, then an appropriate loss function to minimize would be the following:\n",
    "\n",
    "```\n",
    "loss <- distance(style(reference_image) - style(generated_image)) +\n",
    "        distance(content(original_image) - content(generated_image))\n",
    "```\n",
    "\n",
    "Where `distance` is a norm function such as the L2 norm, `content` is a function that takes an image and computes a representation of its \"content\", and `style` is a function that takes an image and computes a representation of its \"style\".\n",
    "\n",
    "Minimizing this loss would cause `style(generated_image)` to be close to `style(reference_image)`, while `content(generated_image)` would be close to `content(generated_image)`, thus achieving style transfer as we defined it.\n",
    "\n",
    "A fundamental observation made by Gatys et al is that deep convolutional neural networks offer precisely a way to mathematically defined the `style` and `content` functions. Let's see how.\n",
    "\n",
    "## The content loss\n",
    "\n",
    "As you already know, activations from earlier layers in a network contain _local_ information about the image, while activations from higher layers contain increasingly _global_ and _abstract_ information. Formulated in a different way, the activations of the different layers of a convnet provide a decomposition of the contents of an image over different spatial scales. Therefore we expect the \"content\" of an image, which is more global and more abstract, to be captured by the representations of a top layer of a convnet.\n",
    "\n",
    "A good candidate for a content loss would thus be to consider a pre-trained convnet, and define as our loss the L2 norm between the activations of a top layer computed over the target image and the activations of the same layer computed over the generated image. This would guarantee that, as seen from the top layer of the convnet, the generated image will \"look similar\" to the original target image. Assuming that what the top layers of a convnet see is really the \"content\" of their input images, then this does work as a way to preserve \n",
    "image content.\n",
    "\n",
    "## The style loss"
   ]
  },
  {
   "cell_type": "markdown",
   "metadata": {},
   "source": [
    "While the content loss only leverages a single higher-up layer, the style loss as defined in the Gatys et al. paper leverages multiple layers of a convnet: we aim at capturing the appearance of the style reference image at all spatial scales extracted by the convnet, not just any single scale.\n",
    "\n",
    "For the style loss, the Gatys et al. paper leverages the \"Gram matrix\" of a layer's activations, i.e. the inner product between the feature maps of a given layer. This inner product can be understood as representing a map of the correlations between the features of a layer. These feature correlations capture the statistics of the patterns of a particular spatial scale, which empirically corresponds to the appearance of the textures found at this scale.\n",
    "\n",
    "Hence the style loss aims at preserving similar internal correlations within the activations of different layers, across the style reference image and the generated image. In turn, this guarantees that the textures found at different spatial scales will look similar across the style reference image and the generated image.\n",
    "\n",
    "## In short"
   ]
  },
  {
   "cell_type": "markdown",
   "metadata": {},
   "source": [
    "In short, we can use a pre-trained convnet to define a loss that will:\n",
    "\n",
    "* Preserve content by maintaining similar high-level layer activations between the target content image and the generated image. The convnet should \"see\" both the target image and the generated image as \"containing the same things\".\n",
    "* Preserve style by maintaining similar _correlations_ within activations for both low-level layers and high-level layers. Indeed, feature correlations capture _textures_: the generated and the style reference image should share the same textures at different spatial scales.\n",
    "\n",
    "Now let's take a look at a Keras implementation of the original 2015 neural style transfer algorithm. As you will see, it shares a lot of similarities with the Deep Dream implementation we developed in the previous section.\n",
    "\n",
    "## Neural style transfer in Keras"
   ]
  },
  {
   "cell_type": "markdown",
   "metadata": {},
   "source": [
    "Neural style transfer can be implemented using any pre-trained convnet. Here we will use the VGG19 network, used by Gatys et al in their paper. VGG19 is a simple variant of the VGG16 network we introduced in Chapter 5, with three more convolutional layers.\n",
    "\n",
    "This is our general process:\n",
    "\n",
    "* Set up a network that will compute VGG19 layer activations for the style reference image, the target image, and the generated image at \n",
    "the same time.\n",
    "* Use the layer activations computed over these three images to define the loss function described above, which we will minimize in order \n",
    "to achieve style transfer.\n",
    "* Set up a gradient descent process to minimize this loss function."
   ]
  },
  {
   "cell_type": "markdown",
   "metadata": {},
   "source": [
    "Let's start by defining the paths to the two images we consider: the style reference image and the target image. To make sure that all images processed share similar sizes (widely different sizes would make style transfer more difficult), we will later resize them all to a shared height of 400px."
   ]
  },
  {
   "cell_type": "code",
   "execution_count": null,
   "metadata": {},
   "outputs": [],
   "source": [
    "library(keras)\n",
    "\n",
    "# This is the path to the image you want to transform.\n",
    "target_image_path <- \"style_transfer/portrait.png\" \n",
    "\n",
    "# This is the path to the style image.\n",
    "style_reference_image_path <- \"style_transfer/transfer_style_reference.png\"\n",
    "\n",
    "# Dimensions of the generated picture.\n",
    "img <- image_load(target_image_path)\n",
    "width <- img$size[[1]]\n",
    "height <- img$size[[2]]\n",
    "img_nrows <- 400\n",
    "img_ncols <- as.integer(width * img_nrows / height)  "
   ]
  },
  {
   "cell_type": "markdown",
   "metadata": {},
   "source": [
    "We will need some auxiliary functions for loading, pre-processing and post-processing the images that will go in and out of the VGG19 convnet:"
   ]
  },
  {
   "cell_type": "code",
   "execution_count": null,
   "metadata": {},
   "outputs": [],
   "source": [
    "preprocess_image <- function(path) {\n",
    "  img <- image_load(path, target_size = c(img_nrows, img_ncols)) %>%\n",
    "    image_to_array() %>%\n",
    "    array_reshape(c(1, dim(.)))\n",
    "  imagenet_preprocess_input(img)\n",
    "}\n",
    "\n",
    "deprocess_image <- function(x) {\n",
    "  x <- x[1,,,]\n",
    "  # Remove zero-center by mean pixel\n",
    "  x[,,1] <- x[,,1] + 103.939\n",
    "  x[,,2] <- x[,,2] + 116.779\n",
    "  x[,,3] <- x[,,3] + 123.68\n",
    "  # 'BGR'->'RGB'\n",
    "  x <- x[,,c(3,2,1)]\n",
    "  x[x > 255] <- 255\n",
    "  x[x < 0] <- 0\n",
    "  x[] <- as.integer(x)/255\n",
    "  x\n",
    "}"
   ]
  },
  {
   "cell_type": "markdown",
   "metadata": {},
   "source": [
    "Let's set up the VGG19 network. It takes as input a batch of three images: the style-reference image, the target image, and a placeholder that will contain the generated image. A placeholder is a symbolic tensor, the values of which are provided externally via R arrays. The style-reference and target image are static and thus defined using `k_constant`, whereas the values contained in the placeholder of the generated image will change over time."
   ]
  },
  {
   "cell_type": "code",
   "execution_count": null,
   "metadata": {},
   "outputs": [],
   "source": [
    "target_image <- k_constant(preprocess_image(target_image_path))\n",
    "style_reference_image <- k_constant(\n",
    "  preprocess_image(style_reference_image_path)\n",
    ")\n",
    "\n",
    "# This placeholder will contain our generated image\n",
    "combination_image <- k_placeholder(c(1, img_nrows, img_ncols, 3)) \n",
    "\n",
    "# We combine the 3 images into a single batch\n",
    "input_tensor <- k_concatenate(list(target_image, style_reference_image, \n",
    "                                   combination_image), axis = 1)\n",
    "\n",
    "# We build the VGG19 network with our batch of 3 images as input.\n",
    "# The model will be loaded with pre-trained ImageNet weights.\n",
    "model <- application_vgg19(input_tensor = input_tensor, \n",
    "                           weights = \"imagenet\", \n",
    "                           include_top = FALSE)\n",
    "\n",
    "cat(\"Model loaded\\n\")"
   ]
  },
  {
   "cell_type": "markdown",
   "metadata": {},
   "source": [
    "Let's define the content loss, meant to make sure that the top layer of the VGG19 convnet will have a similar view of the target image and the generated image:"
   ]
  },
  {
   "cell_type": "code",
   "execution_count": null,
   "metadata": {},
   "outputs": [],
   "source": [
    "content_loss <- function(base, combination) {\n",
    "  k_sum(k_square(combination - base))\n",
    "}"
   ]
  },
  {
   "cell_type": "markdown",
   "metadata": {},
   "source": [
    "Now, here's the style loss. It leverages an auxiliary function to compute the Gram matrix of an input matrix, i.e. a map of the correlations found in the original feature matrix."
   ]
  },
  {
   "cell_type": "code",
   "execution_count": null,
   "metadata": {},
   "outputs": [],
   "source": [
    "gram_matrix <- function(x) {\n",
    "  features <- k_batch_flatten(k_permute_dimensions(x, c(3, 1, 2)))\n",
    "  gram <- k_dot(features, k_transpose(features))\n",
    "  gram\n",
    "}\n",
    "\n",
    "style_loss <- function(style, combination){\n",
    "  S <- gram_matrix(style)\n",
    "  C <- gram_matrix(combination)\n",
    "  channels <- 3\n",
    "  size <- img_nrows*img_ncols\n",
    "  k_sum(k_square(S - C)) / (4 * channels^2  * size^2)\n",
    "}"
   ]
  },
  {
   "cell_type": "markdown",
   "metadata": {},
   "source": [
    "To these two loss components, we add a third one, the \"total variation loss\". It is meant to encourage spatial continuity in the generated image, thus avoiding overly pixelated results. You could interpret it as a regularization loss."
   ]
  },
  {
   "cell_type": "code",
   "execution_count": null,
   "metadata": {},
   "outputs": [],
   "source": [
    "total_variation_loss <- function(x) {\n",
    "  y_ij  <- x[,1:(img_nrows - 1L), 1:(img_ncols - 1L),]\n",
    "  y_i1j <- x[,2:(img_nrows), 1:(img_ncols - 1L),]\n",
    "  y_ij1 <- x[,1:(img_nrows - 1L), 2:(img_ncols),]\n",
    "  a <- k_square(y_ij - y_i1j)\n",
    "  b <- k_square(y_ij - y_ij1)\n",
    "  k_sum(k_pow(a + b, 1.25))\n",
    "}"
   ]
  },
  {
   "cell_type": "markdown",
   "metadata": {},
   "source": [
    "The loss that we minimize is a weighted average of these three losses. To compute the content loss, we only leverage one top layer, the `block5_conv2` layer, while for the style loss we use a list of layers than spans both low-level and high-level layers. We add the total variation loss at the end.\n",
    "\n",
    "Depending on the style reference image and content image you are using, you will likely want to tune the `content_weight` coefficient, the contribution of the content loss to the total loss. A higher `content_weight` means that the target content will be more recognizable in the generated image."
   ]
  },
  {
   "cell_type": "code",
   "execution_count": null,
   "metadata": {},
   "outputs": [],
   "source": [
    "# Named list mapping layer names to activation tensors\n",
    "outputs_dict <- lapply(model$layers, `[[`, \"output\")\n",
    "names(outputs_dict) <- lapply(model$layers, `[[`, \"name\")\n",
    "\n",
    "# Name of layer used for content loss\n",
    "content_layer <- \"block5_conv2\" \n",
    "\n",
    "# Name of layers used for style loss\n",
    "style_layers = c(\"block1_conv1\", \"block2_conv1\",\n",
    "                 \"block3_conv1\", \"block4_conv1\",\n",
    "                 \"block5_conv1\")\n",
    "\n",
    "# Weights in the weighted average of the loss components\n",
    "total_variation_weight <- 1e-4\n",
    "style_weight <- 1.0\n",
    "content_weight <- 0.025\n",
    "\n",
    "# Define the loss by adding all components to a `loss` variable\n",
    "loss <- k_variable(0.0) \n",
    "layer_features <- outputs_dict[[content_layer]] \n",
    "target_image_features <- layer_features[1,,,]\n",
    "combination_features <- layer_features[3,,,]\n",
    "\n",
    "loss <- loss + content_weight * content_loss(target_image_features,\n",
    "                                             combination_features)\n",
    "\n",
    "for (layer_name in style_layers){\n",
    "  layer_features <- outputs_dict[[layer_name]]\n",
    "  style_reference_features <- layer_features[2,,,]\n",
    "  combination_features <- layer_features[3,,,]\n",
    "  sl <- style_loss(style_reference_features, combination_features)\n",
    "  loss <- loss + ((style_weight / length(style_layers)) * sl)\n",
    "}\n",
    "\n",
    "loss <- loss + \n",
    "  (total_variation_weight * total_variation_loss(combination_image))"
   ]
  },
  {
   "cell_type": "markdown",
   "metadata": {},
   "source": [
    "Finally, we set up the gradient-descent process. In the original Gatys et al. paper, optimization is performed using the L-BFGS algorithm, so that is also what you'll use here. This is a key difference from the DeepDream example in section 8.2. The L-BFGS algorithm is available via the `optim()` function, but there are two slight limitations with the `optim()` implementation:\n",
    "\n",
    "* It requires that you pass the value of the loss function and the value of the gradients as two separate functions.\n",
    "* It can only be applied to flat vectors, whereas you have a 3D image array.\n",
    "\n",
    "It would be inefficient to compute the value of the loss function and the value of the gradients independently, because doing so would lead to a lot of redundant computation between the two; the process would be almost twice as slow as computing them jointly. To bypass this, you'll set up an R6 class named `Evaluator` that computes both the loss value and the gradients value at once, returns the loss value when called the first time, and caches the gradients for the next call."
   ]
  },
  {
   "cell_type": "code",
   "execution_count": null,
   "metadata": {},
   "outputs": [],
   "source": [
    "# Get the gradients of the generated image wrt the loss\n",
    "grads <- k_gradients(loss, combination_image)[[1]] \n",
    "\n",
    "# Function to fetch the values of the current loss and the current gradients\n",
    "fetch_loss_and_grads <- k_function(list(combination_image), list(loss, grads))\n",
    "\n",
    "eval_loss_and_grads <- function(image) {\n",
    "  image <- array_reshape(image, c(1, img_nrows, img_ncols, 3))\n",
    "  outs <- fetch_loss_and_grads(list(image))\n",
    "  list(\n",
    "    loss_value = outs[[1]],\n",
    "    grad_values = array_reshape(outs[[2]], dim = length(outs[[2]]))\n",
    "  )\n",
    "}\n",
    "\n",
    "library(R6)\n",
    "Evaluator <- R6Class(\"Evaluator\",\n",
    "  public = list(\n",
    "    \n",
    "    loss_value = NULL,\n",
    "    grad_values = NULL,\n",
    "    \n",
    "    initialize = function() {\n",
    "      self$loss_value <- NULL\n",
    "      self$grad_values <- NULL\n",
    "    },\n",
    "    \n",
    "    loss = function(x){\n",
    "      loss_and_grad <- eval_loss_and_grads(x)\n",
    "      self$loss_value <- loss_and_grad$loss_value\n",
    "      self$grad_values <- loss_and_grad$grad_values\n",
    "      self$loss_value\n",
    "    },\n",
    "    \n",
    "    grads = function(x){\n",
    "      grad_values <- self$grad_values\n",
    "      self$loss_value <- NULL\n",
    "      self$grad_values <- NULL\n",
    "      grad_values\n",
    "    }\n",
    "  )\n",
    ")\n",
    "\n",
    "evaluator <- Evaluator$new()"
   ]
  },
  {
   "cell_type": "markdown",
   "metadata": {},
   "source": [
    "Finally, you can run the gradient-ascent process using the L-BFGS algorithm, plotting the current generated image at each iteration of the \n",
    "algorithm (here, a single iteration represents 20 steps of gradient ascent)."
   ]
  },
  {
   "cell_type": "code",
   "execution_count": null,
   "metadata": {
    "lines_to_next_cell": 2
   },
   "outputs": [],
   "source": [
    "iterations <- 20\n",
    "\n",
    "dms <- c(1, img_nrows, img_ncols, 3)\n",
    "\n",
    "# This is the initial state: the target image.\n",
    "x <- preprocess_image(target_image_path)\n",
    "# Note that optim can only process flat vectors.\n",
    "x <- array_reshape(x, dim = length(x))  \n",
    "\n",
    "for (i in 1:iterations) { \n",
    "  \n",
    "  # Runs L-BFGS over the pixels of the generated image to minimize the neural style loss.\n",
    "  opt <- optim(\n",
    "    array_reshape(x, dim = length(x)), \n",
    "    fn = evaluator$loss, \n",
    "    gr = evaluator$grads, \n",
    "    method = \"L-BFGS-B\",\n",
    "    control = list(maxit = 15)\n",
    "  )\n",
    "  \n",
    "  cat(\"Loss:\", opt$value, \"\\n\")\n",
    "  \n",
    "  image <- x <- opt$par\n",
    "  image <- array_reshape(image, dms)\n",
    "  \n",
    "  im <- deprocess_image(image)\n",
    "  plot(as.raster(im))\n",
    "}"
   ]
  },
  {
   "cell_type": "markdown",
   "metadata": {},
   "source": [
    "![](style_transfer/portrait_styled.png)\n",
    "\n",
    "Keep in mind that what this technique achieves is merely a form of image re-texturing, or texture transfer. It will work best with style reference images that are strongly textured and highly self-similar, and with content targets that don't require high levels of details in order to be recognizable. It would typically not be able to achieve fairly abstract feats such as \"transferring the style of one portrait to another\". The algorithm is closer to classical signal processing than to AI, so don't expect it to work like magic!\n",
    "\n",
    "Additionally, do note that running this style transfer algorithm is quite slow. However, the transformation operated by our setup is simple enough that it can be learned by a small, fast feedforward convnet as well -- as long as you have appropriate training data available. Fast style transfer can thus be achieved by first spending a lot of compute cycles to generate input-output training examples for a fixed style reference image, using the above method, and then training a simple convnet to learn this style-specific transformation. Once that is done, stylizing a given image is instantaneous: it's a just a forward pass of this small convnet."
   ]
  },
  {
   "cell_type": "markdown",
   "metadata": {},
   "source": [
    "## Take aways\n",
    "\n",
    "* Style transfer consists in creating a new image that preserves the \"contents\" of a target image while also capturing the \"style\" of a reference image.\n",
    "* \"Content\" can be captured by the high-level activations of a convnet.\n",
    "* \"Style\" can be captured by the internal correlations of the activations of different layers of a convnet.\n",
    "* Hence deep learning allows style transfer to be formulated as an optimization process using a loss defined with a pre-trained convnet.\n",
    "* Starting from this basic idea, many variants and refinements are possible!"
   ]
  }
 ],
 "metadata": {
  "jupytext": {
   "cell_metadata_filter": "tags,name,-all"
  },
  "kernelspec": {
   "display_name": "R",
   "language": "R",
   "name": "ir"
  }
 },
 "nbformat": 4,
 "nbformat_minor": 4
}
