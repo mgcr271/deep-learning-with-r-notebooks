{
  "nbformat": 4,
  "nbformat_minor": 0,
  "metadata": {
    "jupytext": {
      "cell_metadata_filter": "tags,echo,name,-all"
    },
    "kernelspec": {
      "display_name": "R",
      "language": "R",
      "name": "ir"
    },
    "colab": {
      "name": "2.1-a-first-look-at-a-neural-network.ipynb",
      "provenance": [],
      "include_colab_link": true
    }
  },
  "cells": [
    {
      "cell_type": "markdown",
      "metadata": {
        "id": "view-in-github",
        "colab_type": "text"
      },
      "source": [
        "<a href=\"https://colab.research.google.com/github/mgcr271/deep-learning-with-r-notebooks/blob/master/notebooks/2.1-a-first-look-at-a-neural-network.ipynb\" target=\"_parent\"><img src=\"https://colab.research.google.com/assets/colab-badge.svg\" alt=\"Open In Colab\"/></a>"
      ]
    },
    {
      "cell_type": "markdown",
      "metadata": {
        "id": "y2l9U7nlWkmz",
        "colab_type": "raw"
      },
      "source": [
        "# A first look at a neural network\n"
      ]
    },
    {
      "cell_type": "code",
      "metadata": {
        "name": "setup",
        "tags": [
          "remove_cell"
        ],
        "id": "SZZDMhOAWkm0",
        "colab_type": "code",
        "colab": {
          "base_uri": "https://localhost:8080/",
          "height": 68
        },
        "outputId": "f58b338a-db8e-44dd-90be-0430caa6248f"
      },
      "source": [
        "install.packages('keras')"
      ],
      "execution_count": 1,
      "outputs": [
        {
          "output_type": "stream",
          "text": [
            "Installing package into ‘/usr/local/lib/R/site-library’\n",
            "(as ‘lib’ is unspecified)\n",
            "\n"
          ],
          "name": "stderr"
        }
      ]
    },
    {
      "cell_type": "markdown",
      "metadata": {
        "id": "hnfjppOsWkm4",
        "colab_type": "text"
      },
      "source": [
        "***\n",
        "\n",
        "This notebook contains the code samples found in Chapter 2, Section 1 of [Deep Learning with R](https://www.manning.com/books/deep-learning-with-r). Note that the original text features far more content, in particular further explanations and figures: in this notebook, you will only find source code and related comments.\n",
        "\n",
        "***\n",
        "\n",
        "Let's look at a concrete example of a neural network that uses the Keras R package to learn to classify hand-written digits. Unless you already have experience with Keras or similar libraries, you will not understand everything about this first example right away. You probably haven't even installed Keras yet. Don't worry, that is perfectly fine. In the next chapter, we will review each element in our example and explain them in detail. So don't worry if some steps seem arbitrary or look like magic to you! We've got to start somewhere.\n",
        "\n",
        "The problem we're trying to solve here is to classify grayscale images of handwritten digits (28 pixels by 28 pixels) into their 10 categories (0 to 9). We'll use the MNIST dataset, a classic dataset in the machine-learning community, which has been around almost as long as the field itself and has been intensively studied. It's a set of 60,000 training images, plus 10,000 test images, assembled by the National Institute of Standards and Technology (the NIST in MNIST) in the 1980s. You can think of \"solving\" MNIST as the \"Hello World\" of deep learning—it's what you do to verify that your algorithms are working as expected. As you become a machine-learning practitioner, you'll see MNIST come up over and over again, in scientific papers, blog posts, and so on. \n",
        "\n",
        "The MNIST dataset comes preloaded in Keras, in the form of `train` and `test` lists, each of which includes a set of images (`x`) and associated labels (`y`):"
      ]
    },
    {
      "cell_type": "code",
      "metadata": {
        "tags": [
          "remove_output"
        ],
        "id": "RvVpULubWkm4",
        "colab_type": "code",
        "colab": {}
      },
      "source": [
        "library(keras)\n",
        "\n",
        "mnist <- dataset_mnist()\n",
        "train_images <- mnist$train$x\n",
        "train_labels <- mnist$train$y\n",
        "test_images <- mnist$test$x\n",
        "test_labels <- mnist$test$y"
      ],
      "execution_count": 0,
      "outputs": []
    },
    {
      "cell_type": "markdown",
      "metadata": {
        "id": "HVL9XR3WWkm7",
        "colab_type": "text"
      },
      "source": [
        "`train_images` and `train_labels` form the _training set_, the data that the model will learn from. The model will then be tested on the  _test set_, `test_images` and `test_labels`. The images are encoded as as 3D arrays, and the labels are a 1D array of digits, ranging from 0 to 9. There is a one-to-one correspondence between the images and the labels.\n",
        "\n",
        "The R `str()` function is a convenient way to get a quick glimpse at the structure of an array. Let's use it to have a look at the training data:"
      ]
    },
    {
      "cell_type": "code",
      "metadata": {
        "id": "drp38cBAWkm7",
        "colab_type": "code",
        "colab": {
          "base_uri": "https://localhost:8080/",
          "height": 34
        },
        "outputId": "7bf8d445-8ddd-4e83-89a7-138b44db71e5"
      },
      "source": [
        "str(train_images)"
      ],
      "execution_count": 3,
      "outputs": [
        {
          "output_type": "stream",
          "text": [
            " int [1:60000, 1:28, 1:28] 0 0 0 0 0 0 0 0 0 0 ...\n"
          ],
          "name": "stdout"
        }
      ]
    },
    {
      "cell_type": "code",
      "metadata": {
        "id": "9PC_YTPiWkm-",
        "colab_type": "code",
        "colab": {
          "base_uri": "https://localhost:8080/",
          "height": 34
        },
        "outputId": "893aff6e-f41f-4dac-8779-888cb96df725"
      },
      "source": [
        "str(train_labels)"
      ],
      "execution_count": 4,
      "outputs": [
        {
          "output_type": "stream",
          "text": [
            " int [1:60000(1d)] 5 0 4 1 9 2 1 3 1 4 ...\n"
          ],
          "name": "stdout"
        }
      ]
    },
    {
      "cell_type": "markdown",
      "metadata": {
        "id": "i3kL5qO8WknA",
        "colab_type": "text"
      },
      "source": [
        "Let's have a look at the test data:"
      ]
    },
    {
      "cell_type": "code",
      "metadata": {
        "id": "9BMH8-JZWknB",
        "colab_type": "code",
        "colab": {
          "base_uri": "https://localhost:8080/",
          "height": 34
        },
        "outputId": "a7efefcd-63ac-42cc-8bfb-f0a02801f3c9"
      },
      "source": [
        "str(test_images)"
      ],
      "execution_count": 5,
      "outputs": [
        {
          "output_type": "stream",
          "text": [
            " int [1:10000, 1:28, 1:28] 0 0 0 0 0 0 0 0 0 0 ...\n"
          ],
          "name": "stdout"
        }
      ]
    },
    {
      "cell_type": "code",
      "metadata": {
        "id": "dwjD3HZyWknD",
        "colab_type": "code",
        "colab": {
          "base_uri": "https://localhost:8080/",
          "height": 34
        },
        "outputId": "99199eb6-f519-41ea-aeba-2f1b602061cd"
      },
      "source": [
        "str(test_labels)"
      ],
      "execution_count": 6,
      "outputs": [
        {
          "output_type": "stream",
          "text": [
            " int [1:10000(1d)] 7 2 1 0 4 1 4 9 5 9 ...\n"
          ],
          "name": "stdout"
        }
      ]
    },
    {
      "cell_type": "markdown",
      "metadata": {
        "id": "4gfOTriSWknF",
        "colab_type": "text"
      },
      "source": [
        "The workflow will be as follows: first we'll feed the neural network the training data, `train_images` and `train_labels`. The network will then learn to associate images and labels. Finally, we'll ask the network to produce predictions for `test_images`, and we'll verify whether these predictions match the labels from `test_labels`.\n",
        "\n",
        "Let's build the network -- again, remember that you aren't supposed to understand everything about this example yet."
      ]
    },
    {
      "cell_type": "code",
      "metadata": {
        "id": "yfk5C7J7WknG",
        "colab_type": "code",
        "colab": {}
      },
      "source": [
        "network <- keras_model_sequential() %>% \n",
        "  layer_dense(units = 512, activation = \"relu\", input_shape = c(28 * 28)) %>% \n",
        "  layer_dense(units = 10, activation = \"softmax\")"
      ],
      "execution_count": 0,
      "outputs": []
    },
    {
      "cell_type": "markdown",
      "metadata": {
        "id": "bPbgU5-rWknI",
        "colab_type": "text"
      },
      "source": [
        "The core building block of neural networks is the _layer_, a data-processing module that you can think of as a filter for data. Some data comes in, and it comes out in a more useful form. Specifically, layers extract _representations_ out of the data fed into them—hopefully representations that are more meaningful for the problem at hand. Most of deep learning consists of chaining together simple layers that will implement a form of progressive _data distillation_. A deep-learning model is like a sieve for data processing, made of a succession of increasingly refined data filters—the layers.\n",
        "\n",
        "Here our network consists of a sequence of two layers, which are densely connected (also called _fully connected_) neural layers. The second (and last) layer is a 10-way _softmax_ layer, which means it will return an array of 10 probability scores (summing to 1). Each score will be the probability that the current digit image belongs to one of our 10 digit classes.\n",
        "\n",
        "To make the network ready for training, we need to pick three more things, as part of the _compilation_ step:\n",
        "\n",
        "* _A loss function_—How the network will be able to measure how good a job it's doing on its training data, and thus how it will be able to steer itself in the right direction.\n",
        "* _An optimizer_—The mechanism through which the network will update itself based on the data it sees and its loss function.\n",
        "* _Metrics to monitor during training and testing_—Here we'll only care about accuracy (the fraction of the images that were correctly classified).\n",
        "\n",
        "The exact purpose of the loss function and the optimizer will be made clear throughout the next two chapters."
      ]
    },
    {
      "cell_type": "code",
      "metadata": {
        "id": "u8Lk4JIZWknI",
        "colab_type": "code",
        "colab": {}
      },
      "source": [
        "network %>% compile(\n",
        "  optimizer = \"rmsprop\",\n",
        "  loss = \"categorical_crossentropy\",\n",
        "  metrics = c(\"accuracy\")\n",
        ")"
      ],
      "execution_count": 0,
      "outputs": []
    },
    {
      "cell_type": "markdown",
      "metadata": {
        "id": "wFy542LNWknK",
        "colab_type": "text"
      },
      "source": [
        "Before training, we'll preprocess the data by reshaping it into the shape the network expects and scaling it so that all values are in the `[0, 1]` interval. Previously, our training images, for instance, were stored in an array of shape `(60000, 28, 28)` of type integer with values in the `[0, 255]` interval. We transform it into a double array of shape `(60000, 28 * 28)` with values between 0 and 1."
      ]
    },
    {
      "cell_type": "code",
      "metadata": {
        "id": "8hsyEt5DWknK",
        "colab_type": "code",
        "colab": {}
      },
      "source": [
        "train_images <- array_reshape(train_images, c(60000, 28 * 28))\n",
        "train_images <- train_images / 255\n",
        "\n",
        "test_images <- array_reshape(test_images, c(10000, 28 * 28))\n",
        "test_images <- test_images / 255"
      ],
      "execution_count": 0,
      "outputs": []
    },
    {
      "cell_type": "markdown",
      "metadata": {
        "id": "NtMlC287WknM",
        "colab_type": "text"
      },
      "source": [
        "We also need to categorically encode the labels, a step which we explain in chapter 3:"
      ]
    },
    {
      "cell_type": "code",
      "metadata": {
        "id": "nLtkRGXTWknN",
        "colab_type": "code",
        "colab": {}
      },
      "source": [
        "train_labels <- to_categorical(train_labels)\n",
        "test_labels <- to_categorical(test_labels)"
      ],
      "execution_count": 0,
      "outputs": []
    },
    {
      "cell_type": "markdown",
      "metadata": {
        "id": "BcmuoAAXWknP",
        "colab_type": "text"
      },
      "source": [
        "We are now ready to train our network, which in Keras is done via a call to the `fit` method of the network: we \"fit\" the model to its training data."
      ]
    },
    {
      "cell_type": "code",
      "metadata": {
        "echo": true,
        "tags": [
          "remove_output"
        ],
        "id": "RJTANfvKWknP",
        "colab_type": "code",
        "colab": {}
      },
      "source": [
        "network %>% fit(train_images, train_labels, epochs = 5, batch_size = 128)"
      ],
      "execution_count": 0,
      "outputs": []
    },
    {
      "cell_type": "markdown",
      "metadata": {
        "id": "F_TqkOA3WknR",
        "colab_type": "text"
      },
      "source": [
        "Two quantities are being displayed during training: the \"loss\" of the network over the training data, and the accuracy of the network over the training data.\n",
        "\n",
        "We quickly reach an accuracy of 0.989 (i.e. 98.9%) on the training data. Now let's check that our model performs well on the test set too:"
      ]
    },
    {
      "cell_type": "code",
      "metadata": {
        "id": "mRgpQA_jWknS",
        "colab_type": "code",
        "colab": {
          "base_uri": "https://localhost:8080/",
          "height": 34
        },
        "outputId": "b8ec21fc-5f41-4e51-d480-9ffbc4eec67b"
      },
      "source": [
        "metrics <- network %>% evaluate(test_images, test_labels, verbose = 0)\n",
        "metrics"
      ],
      "execution_count": 12,
      "outputs": [
        {
          "output_type": "display_data",
          "data": {
            "text/plain": [
              "      loss   accuracy \n",
              "0.07040966 0.97850001 "
            ],
            "text/latex": "\\begin{description*}\n\\item[loss] 0.0704096630215645\n\\item[accuracy] 0.978500008583069\n\\end{description*}\n",
            "text/markdown": "loss\n:   0.0704096630215645accuracy\n:   0.978500008583069\n\n",
            "text/html": [
              "<style>\n",
              ".dl-inline {width: auto; margin:0; padding: 0}\n",
              ".dl-inline>dt, .dl-inline>dd {float: none; width: auto; display: inline-block}\n",
              ".dl-inline>dt::after {content: \":\\0020\"; padding-right: .5ex}\n",
              ".dl-inline>dt:not(:first-of-type) {padding-left: .5ex}\n",
              "</style><dl class=dl-inline><dt>loss</dt><dd>0.0704096630215645</dd><dt>accuracy</dt><dd>0.978500008583069</dd></dl>\n"
            ]
          },
          "metadata": {
            "tags": []
          }
        }
      ]
    },
    {
      "cell_type": "markdown",
      "metadata": {
        "id": "K9NU93trWknT",
        "colab_type": "text"
      },
      "source": [
        "Our test set accuracy turns out to be 98.1% -- that's quite a bit lower than the training set accuracy. This gap between training accuracy and test accuracy is an example of \"overfitting\", the fact that machine learning models tend to perform worse on new data than on their training data. Overfitting will be a central topic in chapter 3.\n",
        "\n",
        "This concludes our first example -- you just saw how you can build and a train a neural network to classify handwritten digits in less than 20 lines of R code. In the next chapter, we'll go into detail about every moving piece we just previewed and clarify what's going on behind the scenes. You'll learn about tensors, the data-storing objects going into the network; about tensor operations, which layers are made of; and about gradient descent, which allows your network to learn from its training examples.\n"
      ]
    }
  ]
}