{
 "cells": [
  {
   "cell_type": "raw",
   "metadata": {},
   "source": [
    "---\n",
    "title: \"Introduction to generative adversarial networks\"\n",
    "output: \n",
    "  html_notebook: \n",
    "    theme: cerulean\n",
    "    highlight: textmate\n",
    "---"
   ]
  },
  {
   "cell_type": "code",
   "execution_count": null,
   "metadata": {
    "name": "setup",
    "tags": [
     "remove_cell"
    ]
   },
   "outputs": [],
   "source": [
    "knitr::opts_chunk$set(warning = FALSE, message = FALSE)"
   ]
  },
  {
   "cell_type": "markdown",
   "metadata": {},
   "source": [
    "***\n",
    "\n",
    "This notebook contains the code samples found in Chapter 8, Section 5 of [Deep Learning with R](https://www.manning.com/books/deep-learning-with-r). Note that the original text features far more content, in particular further explanations and figures: in this notebook, you will only find source code and related comments.\n",
    "\n",
    "***\n",
    "\n",
    "## A schematic GAN implementation"
   ]
  },
  {
   "cell_type": "markdown",
   "metadata": {},
   "source": [
    "In this section, we'll explain how to implement a GAN in Keras, in its barest form -- because GANs are advanced, diving deeply into the technical details would be out of scope for this book. The specific implementation is a _deep convolutional GAN_ (DCGAN): a GAN where the generator and discriminator are deep convnets. In particular, it uses a `layer_conv_2d_transpose()` for image upsampling in the generator.\n",
    "\n",
    "We will train our GAN on images from CIFAR10, a dataset of 50,000 32x32 RGB images belong to 10 classes (5,000 images per class). To make \n",
    "things even easier, we will only use images belonging to the class \"frog\".\n",
    "\n",
    "Schematically, our GAN looks like this:\n",
    "\n",
    "* A `generator` network maps vectors of shape `(latent_dim)` to images of shape `(32, 32, 3)`.\n",
    "* A `discriminator` network maps images of shape (32, 32, 3) to a binary score estimating the probability that the image is real.\n",
    "* A `gan` network chains the generator and the discriminator together: `gan(x) <- discriminator(generator(x))`. Thus this `gan` network maps latent space vectors to the discriminator's assessment of the realism of these latent vectors as decoded by the generator.\n",
    "* We train the discriminator using examples of real and fake images along with \"real\"/\"fake\" labels, as we would train any regular image classification model.\n",
    "* To train the generator, we use the gradients of the generator's weights with regard to the loss of the `gan` model. This means that, at every step, we move the weights of the generator in a direction that will make the discriminator more likely to classify as \"real\" the images decoded by the generator. I.e. we train the generator to fool the discriminator.\n",
    "\n",
    "## A bag of tricks\n",
    "\n",
    "Training GANs and tuning GAN implementations is notoriously difficult. There are a number of known \"tricks\" that one should keep in mind. Like most things in deep learning, it is more alchemy than science: these tricks are really just heuristics, not theory-backed guidelines. They are backed by some level of intuitive understanding of the phenomenon at hand, and they are known to work well empirically, albeit not necessarily in every context.\n",
    "\n",
    "Here are a few of the tricks that we leverage in our own implementation of a GAN generator and discriminator below. It is not an exhaustive list of GAN-related tricks; you will find many more across the GAN literature.\n",
    "\n",
    "* We use `tanh` as the last activation in the generator, instead of `sigmoid`, which is more commonly found in other types of models.\n",
    "* We sample points from the latent space using a _normal distribution_ (Gaussian distribution), not a uniform distribution.\n",
    "* Stochasticity is good to induce robustness. Because GAN training results in a dynamic equilibrium, GANs are likely to get stuck in all sorts of ways. Introducing randomness during training helps prevent this. We introduce randomness in two ways: by using dropout in the discriminator and by adding random noise to the labels for the discriminator.\n",
    "* Sparse gradients can hinder GAN training. In deep learning, sparsity is often a desirable property, but not in GANs. Two things can induce gradient sparsity: max pooling operations and ReLU activations. Instead of max pooling, we recommend using strided convolutions for downsampling, and we recommend using a `layer_activation_leaky_relu()` instead of a ReLU activation. It's similar to ReLU, but it relaxes sparsity constraints by allowing small negative activation values.\n",
    "* In generated images, it's common to see checkerboard artifacts caused by unequal coverage of the pixel space in the generator (see figure 8.17). To fix this, we use a kernel size that is divisible by the stride size whenever we use a strided `layer_conv_2d_transpose()` or `layer_conv_2d()` in both the generator and the discriminator.\n",
    "\n",
    "## The generator\n",
    "\n",
    "First, we develop a `generator` model, which turns a vector (from the latent space -- during training it will sampled at random) into a candidate image. One of the many issues that commonly arise with GANs is that the generator gets stuck with generated images that look like noise. A possible solution is to use dropout on both the discriminator and generator."
   ]
  },
  {
   "cell_type": "code",
   "execution_count": null,
   "metadata": {},
   "outputs": [],
   "source": [
    "library(keras)\n",
    "\n",
    "latent_dim <- 32\n",
    "height <- 32\n",
    "width <- 32\n",
    "channels <- 3\n",
    "\n",
    "generator_input <- layer_input(shape = c(latent_dim))\n",
    "\n",
    "generator_output <- generator_input %>% \n",
    "  \n",
    "  # First, transform the input into a 16x16 128-channels feature map\n",
    "  layer_dense(units = 128 * 16 * 16) %>%\n",
    "  layer_activation_leaky_relu() %>% \n",
    "  layer_reshape(target_shape = c(16, 16, 128)) %>% \n",
    "  \n",
    "  # Then, add a convolution layer\n",
    "  layer_conv_2d(filters = 256, kernel_size = 5, \n",
    "                padding = \"same\") %>% \n",
    "  layer_activation_leaky_relu() %>% \n",
    "  \n",
    "  # Upsample to 32x32\n",
    "  layer_conv_2d_transpose(filters = 256, kernel_size = 4, \n",
    "                          strides = 2, padding = \"same\") %>% \n",
    "  layer_activation_leaky_relu() %>% \n",
    "  \n",
    "  # Few more conv layers\n",
    "  layer_conv_2d(filters = 256, kernel_size = 5, \n",
    "                padding = \"same\") %>% \n",
    "  layer_activation_leaky_relu() %>% \n",
    "  layer_conv_2d(filters = 256, kernel_size = 5, \n",
    "                padding = \"same\") %>% \n",
    "  layer_activation_leaky_relu() %>% \n",
    "  \n",
    "  # Produce a 32x32 1-channel feature map\n",
    "  layer_conv_2d(filters = channels, kernel_size = 7,\n",
    "                activation = \"tanh\", padding = \"same\")\n",
    "\n",
    "generator <- keras_model(generator_input, generator_output)\n",
    "summary(generator)"
   ]
  },
  {
   "cell_type": "markdown",
   "metadata": {},
   "source": [
    "## The discriminator"
   ]
  },
  {
   "cell_type": "markdown",
   "metadata": {},
   "source": [
    "Then, we develop a `discriminator` model, that takes as input a candidate image (real or synthetic) and classifies it into one of two classes, either \"generated image\" or \"real image that comes from the training set\"."
   ]
  },
  {
   "cell_type": "code",
   "execution_count": null,
   "metadata": {},
   "outputs": [],
   "source": [
    "discriminator_input <- layer_input(shape = c(height, width, channels))\n",
    "\n",
    "discriminator_output <- discriminator_input %>% \n",
    "  layer_conv_2d(filters = 128, kernel_size = 3) %>% \n",
    "  layer_activation_leaky_relu() %>% \n",
    "  layer_conv_2d(filters = 128, kernel_size = 4, strides = 2) %>% \n",
    "  layer_activation_leaky_relu() %>% \n",
    "  layer_conv_2d(filters = 128, kernel_size = 4, strides = 2) %>% \n",
    "  layer_activation_leaky_relu() %>% \n",
    "  layer_conv_2d(filters = 128, kernel_size = 4, strides = 2) %>% \n",
    "  layer_activation_leaky_relu() %>% \n",
    "  layer_flatten() %>%\n",
    "  # One dropout layer - important trick!\n",
    "  layer_dropout(rate = 0.4) %>%  \n",
    "  # Classification layer\n",
    "  layer_dense(units = 1, activation = \"sigmoid\")\n",
    "\n",
    "discriminator <- keras_model(discriminator_input, discriminator_output)\n",
    "summary(discriminator)\n",
    "\n",
    "# To stabilize training, we use learning rate decay\n",
    "# and gradient clipping (by value) in the optimizer.\n",
    "discriminator_optimizer <- optimizer_rmsprop( \n",
    "  lr = 0.0008, \n",
    "  clipvalue = 1.0,\n",
    "  decay = 1e-8\n",
    ")\n",
    "\n",
    "discriminator %>% compile(\n",
    "  optimizer = discriminator_optimizer,\n",
    "  loss = \"binary_crossentropy\"\n",
    ")"
   ]
  },
  {
   "cell_type": "markdown",
   "metadata": {},
   "source": [
    "## The adversarial network\n",
    "\n",
    "Finally, we setup the GAN, which chains the generator and the discriminator. This is the model that, when trained, will move the generator in a direction that improves its ability to fool the discriminator. This model turns latent space points into a classification decision, \"fake\" or \"real\", and it is meant to be trained with labels that are always \"these are real images\". So training `gan` will updates the weights of `generator` in a way that makes `discriminator` more likely to predict \"real\" when looking at fake images. Very importantly, we set the discriminator to be frozen during training (non-trainable): its weights will not be updated when training `gan`. If the discriminator weights could be updated during this process, then we would be training the discriminator to always predict \"real\", which is not what we want!"
   ]
  },
  {
   "cell_type": "code",
   "execution_count": null,
   "metadata": {},
   "outputs": [],
   "source": [
    "# Set discriminator weights to non-trainable\n",
    "# (will only apply to the `gan` model)\n",
    "freeze_weights(discriminator) \n",
    "\n",
    "gan_input <- layer_input(shape = c(latent_dim))\n",
    "gan_output <- discriminator(generator(gan_input))\n",
    "gan <- keras_model(gan_input, gan_output)\n",
    "\n",
    "gan_optimizer <- optimizer_rmsprop(\n",
    "  lr = 0.0004, \n",
    "  clipvalue = 1.0, \n",
    "  decay = 1e-8\n",
    ")\n",
    "\n",
    "gan %>% compile(\n",
    "  optimizer = gan_optimizer, \n",
    "  loss = \"binary_crossentropy\"\n",
    ")"
   ]
  },
  {
   "cell_type": "markdown",
   "metadata": {},
   "source": [
    "## How to train your DCGAN\n",
    "\n",
    "Now we can begin training. To recapitulate, this is what the training loop looks like schematically. For each epoch, we do the following:\n",
    "\n",
    "* Draw random points in the latent space (random noise).\n",
    "* Generate images with `generator` using this random noise.\n",
    "* Mix the generated images with real ones.\n",
    "* Train `discriminator` using these mixed images, with corresponding targets: either \"real\" (for the real images) or \"fake\" (for the generated images).\n",
    "* Draw new random points in the latent space.\n",
    "* Train `gan` using these random vectors, with targets that all say \"these are real images.\" This updates the weights of the generator (only, because the discriminator is frozen inside `gan`) to move them toward getting the discriminator to predict \"these are real images\" for generated images: that is, this trains the generator to fool the discriminator.\n",
    "\n",
    "Let's implement it."
   ]
  },
  {
   "cell_type": "code",
   "execution_count": null,
   "metadata": {
    "echo": true,
    "lines_to_next_cell": 0,
    "tags": [
     "remove_output"
    ]
   },
   "outputs": [],
   "source": [
    "# Loads CIFAR10 data\n",
    "cifar10 <- dataset_cifar10()\n",
    "c(c(x_train, y_train), c(x_test, y_test)) %<-% cifar10\n",
    "\n",
    "# Selects frog images (class 6)\n",
    "x_train <- x_train[as.integer(y_train) == 6,,,] \n",
    "# Normalizes data\n",
    "x_train <- x_train / 255\n",
    "\n",
    "iterations <- 10000\n",
    "batch_size <- 20\n",
    "save_dir <- \"gan_images\"\n",
    "dir.create(save_dir)\n",
    "\n",
    "# Start the training loop\n",
    "start <- 1\n",
    "\n",
    "for (step in 1:iterations) {\n",
    "  \n",
    "  # Samples random points in the latent space\n",
    "  random_latent_vectors <- matrix(rnorm(batch_size * latent_dim), \n",
    "                                  nrow = batch_size, ncol = latent_dim)\n",
    "  \n",
    "  # Decodes them to fake images\n",
    "  generated_images <- generator %>% predict(random_latent_vectors)\n",
    "  \n",
    "  # Combines them with real images\n",
    "  stop <- start + batch_size - 1 \n",
    "  real_images <- x_train[start:stop,,,]\n",
    "  rows <- nrow(real_images)\n",
    "  combined_images <- array(0, dim = c(rows * 2, dim(real_images)[-1]))\n",
    "  combined_images[1:rows,,,] <- generated_images\n",
    "  combined_images[(rows+1):(rows*2),,,] <- real_images\n",
    " \n",
    "  # Assembles labels discriminating real from fake images\n",
    "  labels <- rbind(matrix(1, nrow = batch_size, ncol = 1),\n",
    "                  matrix(0, nrow = batch_size, ncol = 1))\n",
    "  \n",
    "  # Adds random noise to the labels -- an important trick!\n",
    "  labels <- labels + (0.5 * array(runif(prod(dim(labels))),\n",
    "                                  dim = dim(labels)))\n",
    "  \n",
    "  # Trains the discriminator\n",
    "  d_loss <- discriminator %>% train_on_batch(combined_images, labels) \n",
    "  \n",
    "  # Samples random points in the latent space\n",
    "  random_latent_vectors <- matrix(rnorm(batch_size * latent_dim), \n",
    "                                  nrow = batch_size, ncol = latent_dim)\n",
    "  \n",
    "  # Assembles labels that say \"all real images\"\n",
    "  misleading_targets <- array(0, dim = c(batch_size, 1))\n",
    "  \n",
    "  # Trains the generator (via the gan model, where the \n",
    "  # discriminator weights are frozen)\n",
    "  a_loss <- gan %>% train_on_batch( \n",
    "    random_latent_vectors, \n",
    "    misleading_targets\n",
    "  )  \n",
    "  \n",
    "  start <- start + batch_size\n",
    "  if (start > (nrow(x_train) - batch_size))\n",
    "    start <- 1\n",
    "  \n",
    "  # Occasionally saves images\n",
    "  if (step %% 100 == 0) { \n",
    "    \n",
    "    # Saves model weights\n",
    "    save_model_weights_hdf5(gan, \"gan.h5\")\n",
    "    \n",
    "    # Prints metrics\n",
    "    cat(\"discriminator loss:\", d_loss, \"\\n\")\n",
    "    cat(\"adversarial loss:\", a_loss, \"\\n\")  \n",
    "    \n",
    "    # Saves one generated image\n",
    "    image_array_save(\n",
    "      generated_images[1,,,] * 255, \n",
    "      path = file.path(save_dir, paste0(\"generated_frog\", step, \".png\"))\n",
    "    )\n",
    "   \n",
    "    # Saves one real image for comparison\n",
    "    image_array_save(\n",
    "      real_images[1,,,] * 255, \n",
    "      path = file.path(save_dir, paste0(\"real_frog\", step, \".png\"))\n",
    "    )\n",
    "  }\n",
    "}"
   ]
  },
  {
   "cell_type": "markdown",
   "metadata": {},
   "source": [
    "\n",
    "\n"
   ]
  }
 ],
 "metadata": {
  "jupytext": {
   "cell_metadata_filter": "tags,echo,name,-all"
  },
  "kernelspec": {
   "display_name": "R",
   "language": "R",
   "name": "ir"
  }
 },
 "nbformat": 4,
 "nbformat_minor": 4
}
