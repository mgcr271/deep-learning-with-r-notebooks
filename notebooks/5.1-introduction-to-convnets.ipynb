{
 "cells": [
  {
   "cell_type": "raw",
   "metadata": {},
   "source": [
    "---\n",
    "title: \"Introduction to convnets\"\n",
    "output: \n",
    "  html_notebook: \n",
    "    theme: cerulean\n",
    "    highlight: textmate\n",
    "---"
   ]
  },
  {
   "cell_type": "code",
   "execution_count": null,
   "metadata": {
    "name": "setup",
    "tags": [
     "remove_cell"
    ]
   },
   "outputs": [],
   "source": [
    "knitr::opts_chunk$set(warning = FALSE, message = FALSE)"
   ]
  },
  {
   "cell_type": "markdown",
   "metadata": {},
   "source": [
    "***\n",
    "\n",
    "This notebook contains the code samples found in Chapter 5, Section 1 of [Deep Learning with R](https://www.manning.com/books/deep-learning-with-r). Note that the original text features far more content, in particular further explanations and figures: in this notebook, you will only find source code and related comments.\n",
    "\n",
    "***\n",
    "\n",
    "We're about to dive into the theory of what convnets are and why they have been so successful at computer vision tasks. But first, let's take a practical look at a simple convnet example. It uses a convnet to classify MNIST digits, a task we performed in chapter 2 using a densely connected network (our test accuracy then was 97.8%). Even though the convnet will be basic, its accuracy will blow out of the water that of the densely connected model from chapter 2.\n",
    "\n",
    "The following lines of code show you what a basic convnet looks like.  It's a stack of `layer_conv_2d()` and `layer_max_pooling_2d()` layers. You'll see in a minute exactly what they do.\n",
    "\n",
    "Importantly, a convnet takes as input tensors of shape `(image_height, image_width, image_channels)` (not including the batch dimension). In this case, we'll configure the convnet to process inputs of size `(28, 28, 1)`, which is the format of MNIST images. We do this by passing the argument `input_shape = c(28, 28, 1)` to the first layer.\n"
   ]
  },
  {
   "cell_type": "code",
   "execution_count": null,
   "metadata": {},
   "outputs": [],
   "source": [
    "library(keras)\n",
    "\n",
    "model <- keras_model_sequential() %>% \n",
    "  layer_conv_2d(filters = 32, kernel_size = c(3, 3), activation = \"relu\",\n",
    "                input_shape = c(28, 28, 1)) %>% \n",
    "  layer_max_pooling_2d(pool_size = c(2, 2)) %>% \n",
    "  layer_conv_2d(filters = 64, kernel_size = c(3, 3), activation = \"relu\") %>% \n",
    "  layer_max_pooling_2d(pool_size = c(2, 2)) %>% \n",
    "  layer_conv_2d(filters = 64, kernel_size = c(3, 3), activation = \"relu\")"
   ]
  },
  {
   "cell_type": "markdown",
   "metadata": {},
   "source": [
    "Let's display the architecture of our convnet so far:"
   ]
  },
  {
   "cell_type": "code",
   "execution_count": null,
   "metadata": {},
   "outputs": [],
   "source": [
    "summary(model)"
   ]
  },
  {
   "cell_type": "markdown",
   "metadata": {},
   "source": [
    "You can see that the output of every `layer_conv_2d()` and `layer_max_pooling_2d()` is a 3D tensor of shape `(height, width, channels)`. The width and height dimensions tend to shrink as you go deeper in the network. The number of channels is controlled by the first argument passed to the `layer_conv_2d()` (32 or 64).\n",
    "\n",
    "The next step is to feed the last output tensor (of shape `(3, 3, 64)`) into a densely connected classifier network like those you're already familiar with: a stack of dense layers. These classifiers process vectors, which are 1D, whereas the current output is a 3D tensor. First we have to flatten the 3D outputs to 1D, and then add a few dense layers on top."
   ]
  },
  {
   "cell_type": "code",
   "execution_count": null,
   "metadata": {},
   "outputs": [],
   "source": [
    "model <- model %>% \n",
    "  layer_flatten() %>% \n",
    "  layer_dense(units = 64, activation = \"relu\") %>% \n",
    "  layer_dense(units = 10, activation = \"softmax\")"
   ]
  },
  {
   "cell_type": "markdown",
   "metadata": {},
   "source": [
    "We are going to do 10-way classification, so we use a final layer with 10 outputs and a softmax activation. Now here's what our network looks like:"
   ]
  },
  {
   "cell_type": "code",
   "execution_count": null,
   "metadata": {},
   "outputs": [],
   "source": [
    "summary(model)"
   ]
  },
  {
   "cell_type": "markdown",
   "metadata": {},
   "source": [
    "As you can see, the `(3, 3, 64)` outputs are flattened into vectors of shape `(576)` before going through two dense layers.\n",
    "\n",
    "Now, let's train the convnet on the MNIST digits. We'll reuse a lot of the code from the MNIST example in chapter \n",
    "2."
   ]
  },
  {
   "cell_type": "code",
   "execution_count": null,
   "metadata": {
    "echo": true,
    "tags": [
     "remove_output"
    ]
   },
   "outputs": [],
   "source": [
    "mnist <- dataset_mnist()\n",
    "c(c(train_images, train_labels), c(test_images, test_labels)) %<-% mnist\n",
    "\n",
    "train_images <- array_reshape(train_images, c(60000, 28, 28, 1))\n",
    "train_images <- train_images / 255\n",
    "\n",
    "test_images <- array_reshape(test_images, c(10000, 28, 28, 1))\n",
    "test_images <- test_images / 255\n",
    "\n",
    "train_labels <- to_categorical(train_labels)\n",
    "test_labels <- to_categorical(test_labels)\n",
    "\n",
    "model %>% compile(\n",
    "  optimizer = \"rmsprop\",\n",
    "  loss = \"categorical_crossentropy\",\n",
    "  metrics = c(\"accuracy\")\n",
    ")\n",
    "              \n",
    "model %>% fit(\n",
    "  train_images, train_labels, \n",
    "  epochs = 5, batch_size=64\n",
    ")"
   ]
  },
  {
   "cell_type": "markdown",
   "metadata": {},
   "source": [
    "Let's evaluate the model on the test data:"
   ]
  },
  {
   "cell_type": "code",
   "execution_count": null,
   "metadata": {
    "echo": true,
    "tags": [
     "remove_output"
    ]
   },
   "outputs": [],
   "source": [
    "results <- model %>% evaluate(test_images, test_labels)"
   ]
  },
  {
   "cell_type": "code",
   "execution_count": null,
   "metadata": {},
   "outputs": [],
   "source": [
    "results"
   ]
  },
  {
   "cell_type": "markdown",
   "metadata": {},
   "source": [
    "While our densely-connected network from Chapter 2 had a test accuracy of 97.8%, our basic convnet has a test accuracy of 99%: we decreased our error rate by 68% (relative). Not bad! "
   ]
  }
 ],
 "metadata": {
  "jupytext": {
   "cell_metadata_filter": "echo,name,tags,-all"
  },
  "kernelspec": {
   "display_name": "R",
   "language": "R",
   "name": "ir"
  }
 },
 "nbformat": 4,
 "nbformat_minor": 4
}
