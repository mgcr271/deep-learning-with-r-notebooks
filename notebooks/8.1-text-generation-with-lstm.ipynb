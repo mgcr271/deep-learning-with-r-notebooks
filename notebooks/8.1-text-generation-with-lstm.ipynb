{
 "cells": [
  {
   "cell_type": "raw",
   "metadata": {},
   "source": [
    "---\n",
    "title: \"Text generation with LSTM\"\n",
    "output: \n",
    "  html_notebook: \n",
    "    theme: cerulean\n",
    "    highlight: textmate\n",
    "---"
   ]
  },
  {
   "cell_type": "code",
   "execution_count": null,
   "metadata": {
    "name": "setup",
    "tags": [
     "remove_cell"
    ]
   },
   "outputs": [],
   "source": [
    "knitr::opts_chunk$set(warning = FALSE, message = FALSE)"
   ]
  },
  {
   "cell_type": "markdown",
   "metadata": {},
   "source": [
    "***\n",
    "\n",
    "This notebook contains the code samples found in Chapter 8, Section 1 of [Deep Learning with R](https://www.manning.com/books/deep-learning-with-r). Note that the original text features far more content, in particular further explanations and figures: in this notebook, you will only find source code and related comments.\n",
    "\n",
    "***"
   ]
  },
  {
   "cell_type": "markdown",
   "metadata": {},
   "source": [
    "## Implementing character-level LSTM text generation"
   ]
  },
  {
   "cell_type": "markdown",
   "metadata": {},
   "source": [
    "Let's put these ideas in practice in a Keras implementation. The first thing we need is a lot of text data that we can use to learn a language model. You could use any sufficiently large text file or set of text files -- Wikipedia, the Lord of the Rings, etc. In this example we will use some of the writings of Nietzsche, the late-19th century German philosopher (translated to English). The language model we will learn will thus be specifically a model of Nietzsche's writing style and topics of choice, rather than a more generic model of the English language.\n",
    "\n",
    "## Preparing the data\n",
    "\n",
    "Let's start by downloading the corpus and converting it to lowercase:"
   ]
  },
  {
   "cell_type": "code",
   "execution_count": null,
   "metadata": {},
   "outputs": [],
   "source": [
    "library(keras)\n",
    "library(stringr)\n",
    "\n",
    "path <- get_file(\n",
    "  \"nietzsche.txt\",\n",
    "  origin = \"https://s3.amazonaws.com/text-datasets/nietzsche.txt\"\n",
    ")\n",
    "text <- tolower(readChar(path, file.info(path)$size))\n",
    "cat(\"Corpus length:\", nchar(text), \"\\n\")"
   ]
  },
  {
   "cell_type": "markdown",
   "metadata": {},
   "source": [
    "Next, you'll extract partially overlapping sequences of length `maxlen`, one-hot encode them, and pack them in a 3D array `x` of shape `(sequences, maxlen, unique_characters)`. Simultaneously, you'll prepare an array `y` containing the corresponding targets: the one-hot-encoded characters that come after each extracted sequence.\n"
   ]
  },
  {
   "cell_type": "code",
   "execution_count": null,
   "metadata": {},
   "outputs": [],
   "source": [
    "maxlen <- 60  # Length of extracted character sequences\n",
    "\n",
    "step <- 3  # We sample a new sequence every `step` characters\n",
    "  \n",
    "text_indexes <- seq(1, nchar(text) - maxlen, by = step)\n",
    "\n",
    "# This holds our extracted sequences\n",
    "sentences <- str_sub(text, text_indexes, text_indexes + maxlen - 1)\n",
    "\n",
    "# This holds the targets (the follow-up characters)\n",
    "next_chars <- str_sub(text, text_indexes + maxlen, text_indexes + maxlen)\n",
    "\n",
    "cat(\"Number of sequences: \", length(sentences), \"\\n\")\n",
    "\n",
    "# List of unique characters in the corpus\n",
    "chars <- unique(sort(strsplit(text, \"\")[[1]]))\n",
    "cat(\"Unique characters:\", length(chars), \"\\n\")\n",
    "\n",
    "# Dictionary mapping unique characters to their index in `chars`\n",
    "char_indices <- 1:length(chars) \n",
    "names(char_indices) <- chars\n",
    "\n",
    "# Next, one-hot encode the characters into binary arrays.\n",
    "cat(\"Vectorization...\\n\") \n",
    "x <- array(0L, dim = c(length(sentences), maxlen, length(chars)))\n",
    "y <- array(0L, dim = c(length(sentences), length(chars)))\n",
    "for (i in 1:length(sentences)) {\n",
    "  sentence <- strsplit(sentences[[i]], \"\")[[1]]\n",
    "  for (t in 1:length(sentence)) {\n",
    "    char <- sentence[[t]]\n",
    "    x[i, t, char_indices[[char]]] <- 1\n",
    "  }\n",
    "  next_char <- next_chars[[i]]\n",
    "  y[i, char_indices[[next_char]]] <- 1\n",
    "}"
   ]
  },
  {
   "cell_type": "markdown",
   "metadata": {},
   "source": [
    "## Building the network\n",
    "\n",
    "This network is a single LSTM layer followed by a dense classifier and softmax over all possible characters. But note that recurrent neural networks aren't the only way to do sequence data generation; 1D convnets also have proven extremely successful at this task in recent times.\n"
   ]
  },
  {
   "cell_type": "code",
   "execution_count": null,
   "metadata": {},
   "outputs": [],
   "source": [
    "model <- keras_model_sequential() %>% \n",
    "  layer_lstm(units = 128, input_shape = c(maxlen, length(chars))) %>% \n",
    "  layer_dense(units = length(chars), activation = \"softmax\")"
   ]
  },
  {
   "cell_type": "markdown",
   "metadata": {},
   "source": [
    "Since our targets are one-hot encoded, we will use `categorical_crossentropy` as the loss to train the model:"
   ]
  },
  {
   "cell_type": "code",
   "execution_count": null,
   "metadata": {},
   "outputs": [],
   "source": [
    "optimizer <- optimizer_rmsprop(lr = 0.01)\n",
    "\n",
    "model %>% compile(\n",
    "  loss = \"categorical_crossentropy\", \n",
    "  optimizer = optimizer\n",
    ")   "
   ]
  },
  {
   "cell_type": "markdown",
   "metadata": {},
   "source": [
    "## Training the language model and sampling from it"
   ]
  },
  {
   "cell_type": "markdown",
   "metadata": {},
   "source": [
    "Given a trained model and a seed text snippet, we generate new text by repeatedly:\n",
    "\n",
    "* 1) Drawing from the model a probability distribution over the next character given the text available so far\n",
    "* 2) Reweighting the distribution to a certain \"temperature\"\n",
    "* 3) Sampling the next character at random according to the reweighted distribution\n",
    "* 4) Adding the new character at the end of the available text\n",
    "\n",
    "This is the code we use to reweight the original probability distribution coming out of the model, and draw a character index from it (the \"sampling function\"):"
   ]
  },
  {
   "cell_type": "code",
   "execution_count": null,
   "metadata": {},
   "outputs": [],
   "source": [
    "sample_next_char <- function(preds, temperature = 1.0) {\n",
    "  preds <- as.numeric(preds)\n",
    "  preds <- log(preds) / temperature\n",
    "  exp_preds <- exp(preds)\n",
    "  preds <- exp_preds / sum(exp_preds)\n",
    "  which.max(t(rmultinom(1, 1, preds)))\n",
    "}"
   ]
  },
  {
   "cell_type": "markdown",
   "metadata": {},
   "source": [
    "Finally, the following loop repeatedly trains and generates text. You begin generating text using a range of different temperatures after every epoch. This allows you to see how the generated text evolves as the model begins to converge, as well as the impact of temperature in the sampling strategy."
   ]
  },
  {
   "cell_type": "code",
   "execution_count": null,
   "metadata": {},
   "outputs": [],
   "source": [
    "for (epoch in 1:60) {\n",
    "  \n",
    "  cat(\"epoch\", epoch, \"\\n\")\n",
    "  \n",
    "  # Fit the model for 1 epoch on the available training data\n",
    "  model %>% fit(x, y, batch_size = 128, epochs = 1) \n",
    "  \n",
    "  # Select a text seed at random\n",
    "  start_index <- sample(1:(nchar(text) - maxlen - 1), 1)  \n",
    "  seed_text <- str_sub(text, start_index, start_index + maxlen - 1)\n",
    "  \n",
    "  cat(\"--- Generating with seed:\", seed_text, \"\\n\\n\")\n",
    "  \n",
    "  for (temperature in c(0.2, 0.5, 1.0, 1.2)) {\n",
    "    \n",
    "    cat(\"------ temperature:\", temperature, \"\\n\")\n",
    "    cat(seed_text, \"\\n\")\n",
    "    \n",
    "    generated_text <- seed_text\n",
    "    \n",
    "     # We generate 400 characters\n",
    "    for (i in 1:400) {\n",
    "      \n",
    "      sampled <- array(0, dim = c(1, maxlen, length(chars)))\n",
    "      generated_chars <- strsplit(generated_text, \"\")[[1]]\n",
    "      for (t in 1:length(generated_chars)) {\n",
    "        char <- generated_chars[[t]]\n",
    "        sampled[1, t, char_indices[[char]]] <- 1\n",
    "      }\n",
    "        \n",
    "      preds <- model %>% predict(sampled, verbose = 0)\n",
    "      next_index <- sample_next_char(preds[1,], temperature)\n",
    "      next_char <- chars[[next_index]]\n",
    "      \n",
    "      generated_text <- paste0(generated_text, next_char)\n",
    "      generated_text <- substring(generated_text, 2)\n",
    "      \n",
    "      cat(next_char)\n",
    "    }\n",
    "    cat(\"\\n\\n\")\n",
    "  }\n",
    "}"
   ]
  },
  {
   "cell_type": "markdown",
   "metadata": {},
   "source": [
    "Here, we used the random seed text \"new faculty, and the jubilation reached its climax when kant.\" Here's what you get at epoch 20, long before the model has fully converged, with `temperature=0.2`:\n",
    "\n",
    "```\n",
    "new faculty, and the jubilation reached its climax when kant and such a man\n",
    "in the same time the spirit of the surely and the such the such \n",
    "as a man is the sunligh and subject the present to the superiority of the \n",
    "special pain the most man and strange the subjection of the \n",
    "special conscience the special and nature and such men the subjection of the\n",
    "special men, the most surely the subjection of the special \n",
    "intellect of the subjection of the same things and\n",
    "```\n",
    "\n",
    "Here's the result with `temperature=0.5`:\n",
    "\n",
    "```\n",
    "new faculty, and the jubilation reached its climax when kant in the eterned \n",
    "and such man as it's also become himself the condition of the \n",
    "experience of off the basis the superiory and the special morty of the \n",
    "strength, in the langus, as which the same time life and \"even who \n",
    "discless the mankind, with a subject and fact all you have to be the stand\n",
    "and lave no comes a troveration of the man and surely the \n",
    "conscience the superiority, and when one must be w\n",
    "```\n",
    "\n",
    "And here's what you get with `temperature=1.0`:\n",
    "\n",
    "```\n",
    "new faculty, and the jubilation reached its climax when kant, as a \n",
    "periliting of manner to all definites and transpects it it so \n",
    "hicable and ont him artiar resull\n",
    "too such as if ever the proping to makes as cnecience. to been juden, \n",
    "all every could coldiciousnike hother aw passife, the plies like \n",
    "which might thiod was account, indifferent germin, that everythery \n",
    "certain destrution, intellect into the deteriorablen origin of moralian, \n",
    "and a lessority o\n",
    "```\n",
    "\n",
    "At epoch 60, the model has mostly converged, and the text starts to look significantly more coherent. Here's the result with `temperature=0.2`:\n",
    "\n",
    "```\n",
    "cheerfulness, friendliness and kindness of a heart are the sense of the \n",
    "spirit is a man with the sense of the sense of the world of the \n",
    "self-end and self-concerning the subjection of the strengthorixes--the \n",
    "subjection of the subjection of the subjection of the \n",
    "self-concerning the feelings in the superiority in the subjection of the \n",
    "subjection of the spirit isn't to be a man of the sense of the \n",
    "subjection and said to the strength of the sense of the\n",
    "```\n",
    "\n",
    "Here is `temperature=0.5`:\n",
    "\n",
    "```\n",
    "cheerfulness, friendliness and kindness of a heart are the part of the soul\n",
    "who have been the art of the philosophers, and which the one \n",
    "won't say, which is it the higher the and with religion of the frences. \n",
    "the life of the spirit among the most continuess of the \n",
    "strengther of the sense the conscience of men of precisely before enough \n",
    "presumption, and can mankind, and something the conceptions, the \n",
    "subjection of the sense and suffering and the\n",
    "```\n",
    "\n",
    "And here is `temperature=1.0`:\n",
    "\n",
    "```\n",
    "cheerfulness, friendliness and kindness of a heart are spiritual by the \n",
    "ciuture for the\n",
    "entalled is, he astraged, or errors to our you idstood--and it needs, \n",
    "to think by spars to whole the amvives of the newoatly, prefectly \n",
    "raals! it was\n",
    "name, for example but voludd atu-especity\"--or rank onee, or even all \n",
    "\"solett increessic of the world and\n",
    "implussional tragedy experience, transf, or insiderar,--must hast\n",
    "if desires of the strubction is be stronges\n",
    "```\n",
    "\n",
    "As you can see, a low temperature results in extremely repetitive and predictable text, but where local structure is highly realistic: in particular, all words (a word being a local pattern of characters) are real English words. With higher temperatures, the generated text becomes more interesting, surprising, even creative; it may sometimes invent completely new words that sound somewhat plausible (such as \"eterned\" or \"troveration\"). With a high temperature, the local structure starts breaking down and most words look like semi-random strings of characters. Without a doubt, here 0.5 is the most interesting temperature for text generation in this specific setup. Always experiment with multiple sampling strategies! A clever balance between learned structure and randomness is what makes generation interesting.\n",
    "\n",
    "Note that by training a bigger model, longer, on more data, you can achieve generated samples that will look much more coherent and realistic than ours. But of course, don't expect to ever generate any meaningful text, other than by random chance: all we are doing is sampling data from a statistical model of which characters come after which characters. Language is a communication channel, and there is a distinction between what communications are about, and the statistical structure of the messages in which communications are encoded. To evidence this distinction, here is a thought experiment: what if human language did a better job at compressing communications, much like our computers do with most of our digital communications? Then language would be no less meaningful, yet it would lack any intrinsic statistical structure, thus making it impossible to learn a language model like we just did."
   ]
  },
  {
   "cell_type": "markdown",
   "metadata": {},
   "source": [
    "## Take aways\n",
    "\n",
    "* We can generate discrete sequence data by training a model to predict the next tokens(s) given previous tokens.\n",
    "* In the case of text, such a model is called a \"language model\" and could be based on either words or characters.\n",
    "* Sampling the next token requires balance between adhering to what the model judges likely, and introducing randomness.\n",
    "* One way to handle this is the notion of _softmax temperature_. Always experiment with different temperatures to find the \"right\" one.\n"
   ]
  }
 ],
 "metadata": {
  "jupytext": {
   "cell_metadata_filter": "name,tags,-all"
  },
  "kernelspec": {
   "display_name": "R",
   "language": "R",
   "name": "ir"
  }
 },
 "nbformat": 4,
 "nbformat_minor": 4
}
