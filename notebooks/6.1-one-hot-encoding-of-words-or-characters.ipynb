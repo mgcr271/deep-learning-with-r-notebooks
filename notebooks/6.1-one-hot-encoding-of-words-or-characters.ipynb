{
 "cells": [
  {
   "cell_type": "raw",
   "metadata": {},
   "source": [
    "---\n",
    "title: \"One-hot encoding of words or characters\"\n",
    "output: \n",
    "  html_notebook: \n",
    "    theme: cerulean\n",
    "    highlight: textmate\n",
    "---"
   ]
  },
  {
   "cell_type": "code",
   "execution_count": null,
   "metadata": {
    "name": "setup",
    "tags": [
     "remove_cell"
    ]
   },
   "outputs": [],
   "source": [
    "knitr::opts_chunk$set(warning = FALSE, message = FALSE)"
   ]
  },
  {
   "cell_type": "markdown",
   "metadata": {},
   "source": [
    "***\n",
    "\n",
    "This notebook contains the first code sample found in Chapter 6, Section 1 of [Deep Learning with R](https://www.manning.com/books/deep-learning-with-r). Note that the original text features far more content, in particular further explanations and figures: in this notebook, you will only find source code and related comments.\n",
    "\n",
    "***"
   ]
  },
  {
   "cell_type": "markdown",
   "metadata": {},
   "source": [
    "One-hot encoding is the most common, most basic way to turn a token into a vector. You already saw it in action in our initial IMDB and Reuters examples from chapter 3 (done with words, in our case). It consists in associating a unique integer index to every word, then turning this integer index i into a binary vector of size N, the size of the vocabulary, that would be all-zeros except for the i-th entry, which would be 1.\n",
    "\n",
    "Of course, one-hot encoding can be done at the character level as well. To unambiguously drive home what one-hot encoding is and how to implement it, here are two toy examples of one-hot encoding: one for words, the other for characters.\n",
    "\n",
    "Word level one-hot encoding (toy example):"
   ]
  },
  {
   "cell_type": "code",
   "execution_count": null,
   "metadata": {},
   "outputs": [],
   "source": [
    "# This is our initial data; one entry per \"sample\"\n",
    "# (in this toy example, a \"sample\" is just a sentence, but\n",
    "# it could be an entire document).\n",
    "samples <- c(\"The cat sat on the mat.\", \"The dog ate my homework.\")\n",
    "  \n",
    "# First, build an index of all tokens in the data.\n",
    "token_index <- list()\n",
    "for (sample in samples)\n",
    "  # Tokenizes the samples via the strsplit function. In real life, you'd also\n",
    "  # strip punctuation and special characters from the samples.\n",
    "  for (word in strsplit(sample, \" \")[[1]])\n",
    "    if (!word %in% names(token_index))\n",
    "      # Assigns a unique index to each unique word. Note that you don't\n",
    "      # attribute index 1 to anything.\n",
    "      token_index[[word]] <- length(token_index) + 2 \n",
    "\n",
    "# Vectorizes the samples. You'll only consider the first max_length \n",
    "# words in each sample.\n",
    "max_length <- 10\n",
    "\n",
    "# This is where you store the results.\n",
    "results <- array(0, dim = c(length(samples), \n",
    "                            max_length, \n",
    "                            max(as.integer(token_index))))\n",
    "\n",
    "for (i in 1:length(samples)) {\n",
    "  sample <- samples[[i]]\n",
    "  words <- head(strsplit(sample, \" \")[[1]], n = max_length)\n",
    "  for (j in 1:length(words)) {\n",
    "    index <- token_index[[words[[j]]]]\n",
    "    results[[i, j, index]] <- 1\n",
    "  }\n",
    "}"
   ]
  },
  {
   "cell_type": "markdown",
   "metadata": {},
   "source": [
    "Character level one-hot encoding (toy example):"
   ]
  },
  {
   "cell_type": "code",
   "execution_count": null,
   "metadata": {},
   "outputs": [],
   "source": [
    "samples <- c(\"The cat sat on the mat.\", \"The dog ate my homework.\")\n",
    "\n",
    "ascii_tokens <- c(\"\", sapply(as.raw(c(32:126)), rawToChar))\n",
    "token_index <- c(1:(length(ascii_tokens)))\n",
    "names(token_index) <- ascii_tokens\n",
    "\n",
    "max_length <- 50\n",
    "\n",
    "results <- array(0, dim = c(length(samples), max_length, length(token_index)))\n",
    "\n",
    "for (i in 1:length(samples)) {\n",
    "  sample <- samples[[i]]\n",
    "  characters <- strsplit(sample, \"\")[[1]]\n",
    "  for (j in 1:length(characters)) {\n",
    "    character <- characters[[j]]\n",
    "    results[i, j, token_index[[character]]] <- 1\n",
    "  }\n",
    "}"
   ]
  },
  {
   "cell_type": "markdown",
   "metadata": {},
   "source": [
    "Note that Keras has built-in utilities for doing one-hot encoding text at the word level or character level, starting from raw text data. This is what you should actually be using, as it will take care of a number of important features, such as stripping special characters from strings, or only taking into the top N most common words in your dataset (a common restriction to avoid dealing with very large input vector spaces).\n",
    "\n",
    "Using Keras for word-level one-hot encoding:"
   ]
  },
  {
   "cell_type": "code",
   "execution_count": null,
   "metadata": {},
   "outputs": [],
   "source": [
    "library(keras)\n",
    "\n",
    "samples <- c(\"The cat sat on the mat.\", \"The dog ate my homework.\")\n",
    "\n",
    "# Creates a tokenizer, configured to only take into account the 1,000 \n",
    "# most common words, then builds the word index.\n",
    "tokenizer <- text_tokenizer(num_words = 1000) %>%\n",
    "  fit_text_tokenizer(samples)\n",
    "\n",
    "# Turns strings into lists of integer indices\n",
    "sequences <- texts_to_sequences(tokenizer, samples)\n",
    "\n",
    "# You could also directly get the one-hot binary representations. Vectorization \n",
    "# modes other than one-hot encoding are supported by this tokenizer.\n",
    "one_hot_results <- texts_to_matrix(tokenizer, samples, mode = \"binary\")\n",
    "\n",
    "# How you can recover the word index that was computed\n",
    "word_index <- tokenizer$word_index\n",
    "\n",
    "cat(\"Found\", length(word_index), \"unique tokens.\\n\")"
   ]
  },
  {
   "cell_type": "markdown",
   "metadata": {},
   "source": [
    "A variant of one-hot encoding is the so-called \"one-hot hashing trick\", which can be used when the number of unique tokens in your vocabulary is too large to handle explicitly. Instead of explicitly assigning an index to each word and keeping a reference of these indices in a dictionary, one may hash words into vectors of fixed size. This is typically done with a very lightweight hashing function. The main advantage of this method is that it does away with maintaining an explicit word index, which saves memory and allows online encoding of the data (starting to generate token vectors right away, before having seen all of the available data). The one drawback of this method is that it is susceptible to \"hash collisions\": two different words may end up with the same hash, and subsequently any machine learning model looking at these hashes won't be able to tell the difference between these words. The likelihood of hash collisions decreases when the dimensionality of the hashing space is much larger than the total number of unique tokens being hashed.\n",
    "\n",
    "Word-level one-hot encoding with hashing trick (toy example):"
   ]
  },
  {
   "cell_type": "code",
   "execution_count": null,
   "metadata": {
    "lines_to_next_cell": 0
   },
   "outputs": [],
   "source": [
    "library(hashFunction)\n",
    "\n",
    "samples <- c(\"The cat sat on the mat.\", \"The dog ate my homework.\")\n",
    "\n",
    "# We will store our words as vectors of size 1000.\n",
    "# Note that if you have close to 1000 words (or more)\n",
    "# you will start seeing many hash collisions, which\n",
    "# will decrease the accuracy of this encoding method.\n",
    "dimensionality <- 1000\n",
    "max_length <- 10\n",
    "\n",
    "results <- array(0, dim = c(length(samples), max_length, dimensionality))\n",
    "\n",
    "for (i in 1:length(samples)) {\n",
    "  sample <- samples[[i]]\n",
    "  words <- head(strsplit(sample, \" \")[[1]], n = max_length)\n",
    "  for (j in 1:length(words)) {\n",
    "    # Hash the word into a \"random\" integer index\n",
    "    # that is between 0 and 1,000\n",
    "    index <- abs(spooky.32(words[[i]])) %% dimensionality\n",
    "    results[[i, j, index]] <- 1\n",
    "  }\n",
    "}"
   ]
  },
  {
   "cell_type": "markdown",
   "metadata": {},
   "source": [
    "\n"
   ]
  }
 ],
 "metadata": {
  "jupytext": {
   "cell_metadata_filter": "tags,name,-all"
  },
  "kernelspec": {
   "display_name": "R",
   "language": "R",
   "name": "ir"
  }
 },
 "nbformat": 4,
 "nbformat_minor": 4
}
