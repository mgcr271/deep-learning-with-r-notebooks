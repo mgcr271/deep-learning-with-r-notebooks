{
 "cells": [
  {
   "cell_type": "raw",
   "metadata": {},
   "source": [
    "---\n",
    "title: \"Deep Dream\"\n",
    "output: \n",
    "  html_notebook: \n",
    "    theme: cerulean\n",
    "    highlight: textmate\n",
    "---"
   ]
  },
  {
   "cell_type": "code",
   "execution_count": null,
   "metadata": {
    "name": "setup",
    "tags": [
     "remove_cell"
    ]
   },
   "outputs": [],
   "source": [
    "knitr::opts_chunk$set(warning = FALSE, message = FALSE)"
   ]
  },
  {
   "cell_type": "markdown",
   "metadata": {},
   "source": [
    "***\n",
    "\n",
    "This notebook contains the code samples found in Chapter 8, Section 2 of [Deep Learning with R](https://www.manning.com/books/deep-learning-with-r). Note that the original text features far more content, in particular further explanations and figures: in this notebook, you will only find source code and related comments.\n",
    "\n",
    "***\n",
    "\n",
    "## Implementing Deep Dream in Keras\n",
    "\n",
    "We will start from a convnet pre-trained on ImageNet. In Keras, we have many such convnets available: VGG16, VGG19, Xception, ResNet50... albeit the same process is doable with any of these, your convnet of choice will naturally affect your visualizations, since different convnet architectures result in different learned features. The convnet used in the original Deep Dream release was an Inception model, and in practice Inception is known to produce very nice-looking Deep Dreams, so we will use the InceptionV3 model that comes with Keras."
   ]
  },
  {
   "cell_type": "code",
   "execution_count": null,
   "metadata": {},
   "outputs": [],
   "source": [
    "library(keras)\n",
    "\n",
    "# We will not be training our model,\n",
    "# so we use this command to disable all training-specific operations\n",
    "k_set_learning_phase(0)\n",
    "\n",
    "# Build the InceptionV3 network.\n",
    "# The model will be loaded with pre-trained ImageNet weights.\n",
    "model <- application_inception_v3(\n",
    "  weights = \"imagenet\", \n",
    "  include_top = FALSE,\n",
    ")"
   ]
  },
  {
   "cell_type": "markdown",
   "metadata": {},
   "source": [
    "Next, we compute the \"loss\", the quantity that we will seek to maximize during the gradient ascent process. In Chapter 5, for filter visualization, we were trying to maximize the value of a specific filter in a specific layer. Here we will simultaneously maximize the activation of all filters in a number of layers. Specifically, we will maximize a weighted sum of the L2 norm of the activations of a set of high-level layers. The exact set of layers we pick (as well as their contribution to the final loss) has a large influence on the visuals that we will be able to produce, so we want to make these parameters easily configurable. Lower layers result in geometric patterns, while higher layers result in visuals in which you can recognize some classes from ImageNet (e.g. birds or dogs). We'll start from a somewhat arbitrary configuration involving four layers -- but you will definitely want to explore many different configurations later on:"
   ]
  },
  {
   "cell_type": "code",
   "execution_count": null,
   "metadata": {},
   "outputs": [],
   "source": [
    "# Named mapping layer names to a coefficient\n",
    "# quantifying how much the layer's activation\n",
    "# will contribute to the loss we will seek to maximize.\n",
    "# Note that these are layer names as they appear\n",
    "# in the built-in InceptionV3 application.\n",
    "# You can list all layer names using `summary(model)`.\n",
    "layer_contributions <- list(\n",
    "  mixed2 = 0.2,\n",
    "  mixed3 = 3,\n",
    "  mixed4 = 2,\n",
    "  mixed5 = 1.5\n",
    ")"
   ]
  },
  {
   "cell_type": "markdown",
   "metadata": {},
   "source": [
    "Now let's define a tensor that contains our loss, i.e. the weighted sum of the L2 norm of the activations of the layers listed above."
   ]
  },
  {
   "cell_type": "code",
   "execution_count": null,
   "metadata": {},
   "outputs": [],
   "source": [
    "# Get the symbolic outputs of each \"key\" layer (we gave them unique names).\n",
    "layer_dict <- model$layers\n",
    "names(layer_dict) <- lapply(layer_dict, function(layer) layer$name) \n",
    "\n",
    "# Define the loss.\n",
    "loss <- k_variable(0) \n",
    "for (layer_name in names(layer_contributions)) {\n",
    "  # Add the L2 norm of the features of a layer to the loss.\n",
    "  coeff <- layer_contributions[[layer_name]]\n",
    "  activation <- layer_dict[[layer_name]]$output\n",
    "  scaling <- k_prod(k_cast(k_shape(activation), \"float32\"))\n",
    "  loss <- loss + (coeff * k_sum(k_square(activation)) / scaling)\n",
    "}"
   ]
  },
  {
   "cell_type": "markdown",
   "metadata": {},
   "source": [
    "Now we can set up the gradient ascent process:"
   ]
  },
  {
   "cell_type": "code",
   "execution_count": null,
   "metadata": {},
   "outputs": [],
   "source": [
    "# This holds our generated image\n",
    "dream <- model$input\n",
    "\n",
    "# Normalize gradients.\n",
    "grads <- k_gradients(loss, dream)[[1]]\n",
    "grads <- grads / k_maximum(k_mean(k_abs(grads)), 1e-7)\n",
    "\n",
    "# Set up function to retrieve the value\n",
    "# of the loss and gradients given an input image.\n",
    "outputs <- list(loss, grads)\n",
    "fetch_loss_and_grads <- k_function(list(dream), outputs)\n",
    "\n",
    "eval_loss_and_grads <- function(x) {\n",
    "  outs <- fetch_loss_and_grads(list(x))\n",
    "  loss_value <- outs[[1]]\n",
    "  grad_values <- outs[[2]]\n",
    "  list(loss_value, grad_values)\n",
    "}\n",
    "\n",
    "gradient_ascent <- function(x, iterations, step, max_loss = NULL) {\n",
    "  for (i in 1:iterations) {\n",
    "    c(loss_value, grad_values) %<-% eval_loss_and_grads(x)\n",
    "    if (!is.null(max_loss) && loss_value > max_loss)\n",
    "      break\n",
    "    cat(\"...Loss value at\", i, \":\", loss_value, \"\\n\")\n",
    "    x <- x + (step * grad_values)\n",
    "  }\n",
    "  x\n",
    "}"
   ]
  },
  {
   "cell_type": "markdown",
   "metadata": {},
   "source": [
    "Finally, here is the actual Deep Dream algorithm.\n",
    "\n",
    "First, we define a list of \"scales\" (also called \"octaves\") at which we will process the images. Each successive scale is larger than previous one by a factor 1.4 (i.e. 40% larger): we start by processing a small image and we increasingly upscale it:\n",
    "\n",
    "![deep dream process](https://s3.amazonaws.com/book.keras.io/img/ch8/deepdream_process.png)\n",
    "\n",
    "Then, for each successive scale, from the smallest to the largest, we run gradient ascent to maximize the loss we have previously defined, at that scale. After each gradient ascent run, we upscale the resulting image by 40%.\n",
    "\n",
    "To avoid losing a lot of image detail after each successive upscaling (resulting in increasingly blurry or pixelated images), we leverage a simple trick: after each upscaling, we reinject the lost details back into the image, which is possible since we know what the original image should look like at the larger scale. Given a small image S and a larger image size L, we can compute the difference between the original image (assumed larger than L) resized to size L and the original resized to size S -- this difference quantifies the details lost when going from S to L."
   ]
  },
  {
   "cell_type": "code",
   "execution_count": null,
   "metadata": {},
   "outputs": [],
   "source": [
    "resize_img <- function(img, size) {\n",
    "  image_array_resize(img, size[[1]], size[[2]])\n",
    "}\n",
    "\n",
    "save_img <- function(img, fname) {\n",
    "  img <- deprocess_image(img)\n",
    "  image_array_save(img, fname)\n",
    "}\n",
    "\n",
    "# Util function to open, resize, and format pictures into appropriate tensors\n",
    "preprocess_image <- function(image_path) {\n",
    "  image_load(image_path) %>% \n",
    "    image_to_array() %>% \n",
    "    array_reshape(dim = c(1, dim(.))) %>% \n",
    "    inception_v3_preprocess_input()\n",
    "}\n",
    "\n",
    "# Util function to convert a tensor into a valid image\n",
    "deprocess_image <- function(img) {\n",
    "  img <- array_reshape(img, dim = c(dim(img)[[2]], dim(img)[[3]], 3))\n",
    "  img <- img / 2\n",
    "  img <- img + 0.5\n",
    "  img <- img * 255\n",
    "  \n",
    "  dims <- dim(img)\n",
    "  img <- pmax(0, pmin(img, 255))\n",
    "  dim(img) <- dims\n",
    "  img\n",
    "}"
   ]
  },
  {
   "cell_type": "code",
   "execution_count": null,
   "metadata": {},
   "outputs": [],
   "source": [
    "# Playing with these hyperparameters will also allow you to achieve new effects\n",
    "\n",
    "step <- 0.01          # Gradient ascent step size\n",
    "num_octave <- 3       # Number of scales at which to run gradient ascent\n",
    "octave_scale <- 1.4   # Size ratio between scales\n",
    "iterations <- 20      # Number of ascent steps per scale\n",
    "\n",
    "# If our loss gets larger than 10,\n",
    "# we will interrupt the gradient ascent process, to avoid ugly artifacts\n",
    "max_loss <- 10  \n",
    "\n",
    "# Fill this to the path to the image you want to use\n",
    "dir.create(\"dream\")\n",
    "base_image_path <- \"~/Downloads/creative_commons_elephant.jpg\"\n",
    "\n",
    "# Load the image into an array\n",
    "img <- preprocess_image(base_image_path)\n",
    "\n",
    "# We prepare a list of shapes\n",
    "# defining the different scales at which we will run gradient ascent\n",
    "original_shape <- dim(img)[-1]\n",
    "successive_shapes <- list(original_shape)\n",
    "for (i in 1:num_octave) { \n",
    "  shape <- as.integer(original_shape / (octave_scale ^ i))\n",
    "  successive_shapes[[length(successive_shapes) + 1]] <- shape \n",
    "}\n",
    "\n",
    "# Reverse list of shapes, so that they are in increasing order\n",
    "successive_shapes <- rev(successive_shapes) \n",
    "\n",
    "# Resize the array of the image to our smallest scale\n",
    "original_img <- img \n",
    "shrunk_original_img <- resize_img(img, successive_shapes[[1]])\n",
    "\n",
    "for (shape in successive_shapes) {\n",
    "  cat(\"Processsing image shape\", shape, \"\\n\")\n",
    "  img <- resize_img(img, shape)\n",
    "  img <- gradient_ascent(img,\n",
    "                         iterations = iterations,\n",
    "                         step = step,\n",
    "                         max_loss = max_loss)\n",
    "  upscaled_shrunk_original_img <- resize_img(shrunk_original_img, shape)\n",
    "  same_size_original <- resize_img(original_img, shape)\n",
    "  lost_detail <- same_size_original - upscaled_shrunk_original_img\n",
    "  \n",
    "  img <- img + lost_detail\n",
    "  shrunk_original_img <- resize_img(original_img, shape)\n",
    "  save_img(img, fname = sprintf(\"dream/at_scale_%s.png\",\n",
    "                                paste(shape, collapse = \"x\")))\n",
    "}\n",
    "\n",
    "save_img(img, fname = \"dream/final_dream.png\")"
   ]
  },
  {
   "cell_type": "code",
   "execution_count": null,
   "metadata": {},
   "outputs": [],
   "source": [
    "plot(as.raster(deprocess_image(img) / 255))"
   ]
  }
 ],
 "metadata": {
  "jupytext": {
   "cell_metadata_filter": "name,tags,-all"
  },
  "kernelspec": {
   "display_name": "R",
   "language": "R",
   "name": "ir"
  }
 },
 "nbformat": 4,
 "nbformat_minor": 4
}
