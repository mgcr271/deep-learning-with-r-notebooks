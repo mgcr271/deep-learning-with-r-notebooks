{
 "cells": [
  {
   "cell_type": "raw",
   "metadata": {},
   "source": [
    "---\n",
    "title: \"Understanding recurrent neural networks\"\n",
    "output: \n",
    "  html_notebook: \n",
    "    theme: cerulean\n",
    "    highlight: textmate\n",
    "---"
   ]
  },
  {
   "cell_type": "code",
   "execution_count": null,
   "metadata": {
    "name": "setup",
    "tags": [
     "remove_cell"
    ]
   },
   "outputs": [],
   "source": [
    "knitr::opts_chunk$set(warning = FALSE, message = FALSE)"
   ]
  },
  {
   "cell_type": "markdown",
   "metadata": {},
   "source": [
    "***\n",
    "\n",
    "This notebook contains the code samples found in Chapter 6, Section 2 of [Deep Learning with R](https://www.manning.com/books/deep-learning-with-r). Note that the original text features far more content, in particular further explanations and figures: in this notebook, you will only find source code and related comments.\n",
    "\n",
    "***\n",
    "\n",
    "## A first recurrent layer in Keras\n",
    "\n",
    "The process you just naively implemented in R corresponds to an actual Keras layer -- `layer_simple_rnn()`."
   ]
  },
  {
   "cell_type": "code",
   "execution_count": null,
   "metadata": {
    "eval": false
   },
   "outputs": [],
   "source": [
    "layer_simple_rnn(units = 32)"
   ]
  },
  {
   "cell_type": "markdown",
   "metadata": {},
   "source": [
    "There is one minor difference: `layer_simple_rnn()` processes batches of sequences, like all other Keras layers, not a single sequence as in the R example. This means it takes inputs of shape `(batch_size, timesteps, input_features)`, rather than `(timesteps, input_features)`.\n",
    "\n",
    "Like all recurrent layers in Keras, `layer_simple_rnn()` can be run in two different modes: it can return either the full sequences of successive outputs for each timestep (a 3D tensor of shape `(batch_size, timesteps, output_features)`) or only the last output for each input sequence (a 2D tensor of shape `(batch_size, output_features)`). These two modes are controlled by the `return_sequences` constructor argument. Let's look at an example that uses `layer_simple_rnn()` and returns the last state:\n",
    "\n"
   ]
  },
  {
   "cell_type": "code",
   "execution_count": null,
   "metadata": {},
   "outputs": [],
   "source": [
    "library(keras)\n",
    "model <- keras_model_sequential() %>% \n",
    "  layer_embedding(input_dim = 10000, output_dim = 32) %>% \n",
    "  layer_simple_rnn(units = 32)\n",
    "\n",
    "summary(model)"
   ]
  },
  {
   "cell_type": "code",
   "execution_count": null,
   "metadata": {},
   "outputs": [],
   "source": [
    "model <- keras_model_sequential() %>% \n",
    "  layer_embedding(input_dim = 10000, output_dim = 32) %>% \n",
    "  layer_simple_rnn(units = 32, return_sequences = TRUE)\n",
    "\n",
    "summary(model)"
   ]
  },
  {
   "cell_type": "markdown",
   "metadata": {},
   "source": [
    "It is sometimes useful to stack several recurrent layers one after the other in order to increase the representational power of a network. \n",
    "In such a setup, you have to get all intermediate layers to return full sequences:"
   ]
  },
  {
   "cell_type": "code",
   "execution_count": null,
   "metadata": {},
   "outputs": [],
   "source": [
    "model <- keras_model_sequential() %>% \n",
    "  layer_embedding(input_dim = 10000, output_dim = 32) %>% \n",
    "  layer_simple_rnn(units = 32, return_sequences = TRUE) %>% \n",
    "  layer_simple_rnn(units = 32, return_sequences = TRUE) %>%\n",
    "  layer_simple_rnn(units = 32, return_sequences = TRUE) %>%\n",
    "  layer_simple_rnn(units = 32)  # This last layer only returns the last outputs.\n",
    "\n",
    "summary(model)"
   ]
  },
  {
   "cell_type": "markdown",
   "metadata": {},
   "source": [
    "Now let's try to use such a model on the IMDB movie review classification problem. First, let's preprocess the data:"
   ]
  },
  {
   "cell_type": "code",
   "execution_count": null,
   "metadata": {},
   "outputs": [],
   "source": [
    "library(keras)\n",
    "\n",
    "max_features <- 10000  # Number of words to consider as features\n",
    "maxlen <- 500  # Cuts off texts after this many words (among the max_features most common words)\n",
    "batch_size <- 32\n",
    "\n",
    "cat(\"Loading data...\\n\")\n",
    "imdb <- dataset_imdb(num_words = max_features)\n",
    "c(c(input_train, y_train), c(input_test, y_test)) %<-% imdb \n",
    "cat(length(input_train), \"train sequences\\n\")\n",
    "cat(length(input_test), \"test sequences\")\n",
    "\n",
    "cat(\"Pad sequences (samples x time)\\n\")\n",
    "input_train <- pad_sequences(input_train, maxlen = maxlen)\n",
    "input_test <- pad_sequences(input_test, maxlen = maxlen)\n",
    "cat(\"input_train shape:\", dim(input_train), \"\\n\")\n",
    "cat(\"input_test shape:\", dim(input_test), \"\\n\")"
   ]
  },
  {
   "cell_type": "markdown",
   "metadata": {},
   "source": [
    "Let's train a simple recurrent network using a `layer_embedding()` and `layer_simple_rnn()`."
   ]
  },
  {
   "cell_type": "code",
   "execution_count": null,
   "metadata": {
    "echo": true,
    "tags": [
     "remove_output"
    ]
   },
   "outputs": [],
   "source": [
    "model <- keras_model_sequential() %>%\n",
    "  layer_embedding(input_dim = max_features, output_dim = 32) %>%\n",
    "  layer_simple_rnn(units = 32) %>%\n",
    "  layer_dense(units = 1, activation = \"sigmoid\")\n",
    "\n",
    "model %>% compile(\n",
    "  optimizer = \"rmsprop\",\n",
    "  loss = \"binary_crossentropy\",\n",
    "  metrics = c(\"acc\")\n",
    ")\n",
    "\n",
    "history <- model %>% fit(\n",
    "  input_train, y_train,\n",
    "  epochs = 10,\n",
    "  batch_size = 128,\n",
    "  validation_split = 0.2\n",
    ")"
   ]
  },
  {
   "cell_type": "markdown",
   "metadata": {},
   "source": [
    "Let's display the training and validation loss and accuracy:"
   ]
  },
  {
   "cell_type": "code",
   "execution_count": null,
   "metadata": {},
   "outputs": [],
   "source": [
    "plot(history)"
   ]
  },
  {
   "cell_type": "markdown",
   "metadata": {},
   "source": [
    "As a reminder, in chapter 3, the first naive approach to this dataset got you to a test accuracy of 88%. Unfortunately, this small recurrent network doesn't perform well compared to this baseline (only 84% validation accuracy). Part of the problem is that your inputs only consider the first 500 words, rather than full sequences -- hence the RNN has access to less information than the earlier baseline model. The remainder of the problem is that `layer_simple_rnn()`  isn't good at processing long sequences, such as text. Other types of recurrent layers perform much better. Let's look at some more advanced layers.\n",
    "\n",
    "## A concrete LSTM example in Keras\n",
    "\n",
    "Now let's switch to more practical concerns: we will set up a model using a LSTM layer and train it on the IMDB data. Here's the network,similar to the one with `layer_simple_rnn()` that we just presented. We only specify the output dimensionality of the LSTM layer, and leave every  other argument (there are lots) to the Keras defaults. Keras has good defaults, and things will almost always \"just work\" without you having to spend time tuning parameters by hand."
   ]
  },
  {
   "cell_type": "code",
   "execution_count": null,
   "metadata": {
    "echo": true,
    "tags": [
     "remove_output"
    ]
   },
   "outputs": [],
   "source": [
    "model <- keras_model_sequential() %>% \n",
    "  layer_embedding(input_dim = max_features, output_dim = 32) %>% \n",
    "  layer_lstm(units = 32) %>% \n",
    "  layer_dense(units = 1, activation = \"sigmoid\")\n",
    "\n",
    "model %>% compile(\n",
    "  optimizer = \"rmsprop\", \n",
    "  loss = \"binary_crossentropy\", \n",
    "  metrics = c(\"acc\")\n",
    ")\n",
    "\n",
    "history <- model %>% fit(\n",
    "  input_train, y_train,\n",
    "  epochs = 10,\n",
    "  batch_size = 128,\n",
    "  validation_split = 0.2\n",
    ")"
   ]
  },
  {
   "cell_type": "code",
   "execution_count": null,
   "metadata": {},
   "outputs": [],
   "source": [
    "plot(history)"
   ]
  }
 ],
 "metadata": {
  "jupytext": {
   "cell_metadata_filter": "tags,eval,echo,name,-all"
  },
  "kernelspec": {
   "display_name": "R",
   "language": "R",
   "name": "ir"
  }
 },
 "nbformat": 4,
 "nbformat_minor": 4
}
